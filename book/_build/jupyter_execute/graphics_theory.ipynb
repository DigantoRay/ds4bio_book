{
 "cells": [
  {
   "cell_type": "markdown",
   "metadata": {
    "id": "mRK_lBhk_TL5"
   },
   "source": [
    "<a href=\"https://colab.research.google.com/github/smart-stats/ds4bio_book/blob/main/book/graphics_theory.ipynb\" target=\"_parent\"><img src=\"https://colab.research.google.com/assets/colab-badge.svg\" alt=\"Open In Colab\"/></a>\n",
    "\n",
    "# Theory of graphics\n",
    "\n",
    "## Design arguments\n",
    "One of the main design arguments for the graphical display of information is data / ink maximization @tufte1990data. This is the idea that idea that as much of the \"ink\" (non-background pixels) of the plot as possible should be displaying data.\n",
    "\n",
    "Data/ink maximalization has been criticized empirically. For example, @inbar2007minimalism conducted a study with 87 undergraduates and found a clear preference for the non-maximized variations. Another line of argument discusses the \"paradox of simplicity\" @norman2007simplicity, @eytam2017paradox, whereby we have a strong aesthetic preference for simplicity, but also want flexibility and maximum utility.\n",
    "\n",
    "+ @bertin1983semiology\n",
    "\n",
    "### Graphical critique\n",
    "+ @wickham2010graphical\n",
    "\n",
    "### Theory of graphics\n",
    "\n",
    "+ @cleveland1987research\n",
    "+ @cleveland1984many\n",
    "+ @cleveland1980calendar\n",
    "+ @carswell1992choosing\n",
    "+ @cleveland1986experiment\n",
    "+ Magical thinking @diaconis2006theories\n",
    "\n",
    "## Implementation\n",
    "### Grammar of graphics\n",
    "+ @wilkinson2012grammar\n",
    "+ @wilkinson2013grammar\n",
    "+ @wickham2010layered\n",
    "\n",
    "### Narative storytelling\n",
    "Edward and Jeffrey (@segel2010narrative) argue regarding the use of modern interactive tools in data narrative storytelling. They give seven canonical genres of narrative visulation.\n",
    "\n",
    "## Graph galleries and further reading\n",
    "\n",
    "### Further reading  \n",
    "\n",
    "+ Karl Broman on [How to display data badly](https://www.biostat.wisc.edu/~kbroman/presentations/IowaState2013/graphs_combined.pdf)\n",
    "+ Karl Broman [Data Vizualization](https://kbroman.org/AdvData/19_datavis_notes.pdf)\n",
    "+ Karl Broman [10 worst plots](https://www.biostat.wisc.edu/~kbroman/topten_worstgraphs/)\n",
    "+ Karl Broman [Data visualization](https://bookdown.org/martin_monkman/DataScienceResources_book/datavisualization.html)\n",
    "\n",
    "### Graph galleries\n",
    "\n",
    "+ [R graph gallery](https://r-graph-gallery.com/index.html)\n",
    "+ [Matplotlib graph gallery](https://matplotlib.org/2.0.2/gallery.html)\n",
    "+ [Plotly](https://plotly.com/python/)\n",
    "+ [D3 gallery](https://observablehq.com/@d3/gallery)\n",
    "+ [Vega gallery](https://vega.github.io/vega/examples/)\n",
    "+ [Seaborn](https://seaborn.pydata.org/examples/index.html)\n",
    "\n",
    "### Historically famous graphics\n",
    "\n",
    "+ [https://medium.com/stotle-inc/the-greatest-graph-in-history-1155e0c25671Z](https://medium.com/stotle-inc/the-greatest-graph-in-history-1155e0c25671Z)\n",
    "+ [https://plotlygraphs.medium.com/seven-modern-remakes-of-the-most-famous-graphs-ever-made-8ef30da1ab00](https://plotlygraphs.medium.com/seven-modern-remakes-of-the-most-famous-graphs-ever-made-8ef30da1ab00)\n",
    "+ [https://www.datavis.ca/gallery/historical.php](https://www.datavis.ca/gallery/historical.php)\n",
    "+ [https://towardsdatascience.com/a-short-history-of-data-visualisation-de2f81ed0b23](https://towardsdatascience.com/a-short-history-of-data-visualisation-de2f81ed0b23)\n",
    "+ [https://www.tableau.com/learn/articles/best-beautiful-data-visualization-examples](https://www.tableau.com/learn/articles/best-beautiful-data-visualization-examples)\n",
    "\n",
    "### Infographics in the media\n",
    "+ [https://www.nytimes.com/spotlight/graphics](https://www.nytimes.com/spotlight/graphics)\n",
    "+ [JHU covid map](https://coronavirus.jhu.edu/map.html)\n",
    "+"
   ]
  }
 ],
 "metadata": {
  "colab": {
   "provenance": []
  },
  "kernelspec": {
   "display_name": "Python 3",
   "language": "python",
   "name": "python3"
  }
 },
 "nbformat": 4,
 "nbformat_minor": 0
}