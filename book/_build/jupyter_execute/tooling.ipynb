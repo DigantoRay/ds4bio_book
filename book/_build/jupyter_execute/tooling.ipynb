{
 "cells": [
  {
   "cell_type": "markdown",
   "metadata": {
    "id": "4upU4sX3RA3g"
   },
   "source": [
    "# Extra python tooling"
   ]
  }
 ],
 "metadata": {
  "colab": {
   "authorship_tag": "ABX9TyMKy1brD3BPXRrdfrCzXE57",
   "provenance": []
  },
  "kernelspec": {
   "display_name": "Python 3",
   "name": "python3"
  },
  "language_info": {
   "name": "python"
  }
 },
 "nbformat": 4,
 "nbformat_minor": 0
}