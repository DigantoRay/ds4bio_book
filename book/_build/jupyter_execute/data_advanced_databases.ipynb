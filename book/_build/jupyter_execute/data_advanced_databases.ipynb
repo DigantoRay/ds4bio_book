{
 "cells": [
  {
   "cell_type": "markdown",
   "metadata": {
    "id": "0zHXSDQI6FyT"
   },
   "source": [
    "<a href=\"https://colab.research.google.com/github/smart-stats/ds4bio_book/blob/main/book/data_advanced_databases.ipynb\" target=\"_parent\"><img src=\"https://colab.research.google.com/assets/colab-badge.svg\" alt=\"Open In Colab\"/></a>\n",
    "\n",
    "# HDF5\n",
    "\n",
    "You've probably already learned about some variation of databases\n",
    "either sql, nosql, spark, a cloud db, ... We covered sqlite last chapter.  Often,\n",
    "the backend of these databases can be quite complicated, while the\n",
    "front end requires SQL querries or something similar. We'll look at a\n",
    "non-relational database format that is specifically useful for\n",
    "scientific computing called hdf5. HDF5 has implementations in many\n",
    "languages, but we'll look at python. This is a hierarchical data\n",
    "format specifically useful for large array calculations.\n",
    "\n",
    "Let's create a basic h5py file. First, let's load our stuff."
   ]
  },
  {
   "cell_type": "code",
   "execution_count": null,
   "metadata": {
    "id": "9ZtaYNrj6Fyb"
   },
   "outputs": [],
   "source": [
    "import numpy as np\n",
    "import h5py"
   ]
  },
  {
   "cell_type": "markdown",
   "metadata": {
    "id": "p5yrVspO6Fye"
   },
   "source": [
    "Now, let's create an empty hdf5 file. Here's the basic code; the\n",
    "option `w` is open for writing. There's also `w-`, `r`, `r+`, `a` for\n",
    "write protected, read only, read/write, read/write and create.  The\n",
    "first time I ran it I used:"
   ]
  },
  {
   "cell_type": "code",
   "execution_count": null,
   "metadata": {
    "id": "C49xsIVf6Fyf"
   },
   "outputs": [],
   "source": [
    "f = h5py.File('sensor.hdf5', 'w')"
   ]
  },
  {
   "cell_type": "markdown",
   "metadata": {
    "id": "39jxCNSm6Fyf"
   },
   "source": [
    "Then, subsequently"
   ]
  },
  {
   "cell_type": "code",
   "execution_count": null,
   "metadata": {
    "id": "EtYpCqUU6Fyg"
   },
   "outputs": [],
   "source": [
    "#| eval: false\n",
    "f = h5py.File('sensor.hdf5', 'r+')"
   ]
  },
  {
   "cell_type": "markdown",
   "metadata": {
    "id": "ZjxFh5J76Fyh"
   },
   "source": [
    "Now let's populate it with some data. The hdf5 file works almost like\n",
    "a directory where we can store hierarchical data. For example, suppose\n",
    "that we want sensors stored in a superstructure called `sensors` and\n",
    "want to fill in the data for `sensor1` and `sensor1`."
   ]
  },
  {
   "cell_type": "code",
   "execution_count": null,
   "metadata": {
    "id": "FvFPY3oU6Fyh"
   },
   "outputs": [],
   "source": [
    "f['sensors/sensor1'] = np.random.normal(size = 1024)\n",
    "f['sensors/sensor2'] = np.random.normal(size = 1024)"
   ]
  },
  {
   "cell_type": "markdown",
   "metadata": {
    "id": "VjI8JM416Fyi"
   },
   "source": [
    "Now we can do normal `np` stuff on this sensor. However, hdf5 is only\n",
    "bringing in the part that we are using into memory. This allows us to\n",
    "work with very large files. Also, as we show here, you can name the\n",
    "data to a variable since that's more convenient."
   ]
  },
  {
   "cell_type": "code",
   "execution_count": null,
   "metadata": {
    "id": "sqLuWexJ6Fyj"
   },
   "outputs": [],
   "source": [
    "s1 = f['sensors/sensor1']\n",
    "s2 = f['sensors/sensor2']"
   ]
  },
  {
   "cell_type": "markdown",
   "metadata": {
    "id": "hxbwpN256Fyk"
   },
   "source": [
    "## Blockwise basic statistical calculations\n",
    "Now, consider taking the mean of both variables. Imagine that the time\n",
    "series is so long it's not feasible to load into memory. So, we want\n",
    "to read it in blocks. You want your blocks to be as big as possible,\n",
    "since that's fastest. In our case, of course, none of this is\n",
    "necessary.\n",
    "\n",
    "Our goal in this section is to do the following: calculate the\n",
    "empirical mean and variance for each sensor, center and scale each\n",
    "sensor, and write those changes to those variables, calculate the\n",
    "sample correlation then calculate the residual for sensor1 given\n",
    "sensor2. (I think typically you wouldn't want to overwrite the\n",
    "original data; but, this is for pedagogical purposes.) We want our\n",
    "data organized so sensors are stored in a hierarchical \"folder\" called\n",
    "sensors and processed data is in a different folder.\n",
    "\n",
    "We're just simulating iid standard normals. So, we have a rough idea\n",
    "of the answers we should get, since the the data are theoretically\n",
    "mean 0, variance 1 and uncorrelated. After our calculations, they will\n",
    "have empirical mean 0 and variance 1 and the empirical correlation\n",
    "between the residual and sensor 2 will be 0.\n",
    "\n",
    "Let's consider a block variation of the inner product.\n",
    "\n",
    "$$\n",
    "<a, b> = \\sum_{i=0}^{n-1} a_i b_i = \\sum_{i=0}^{n/B} \\sum_{j=0}^{B-1} a_{j + i B} b_{j + i B}\n",
    "$$\n",
    "\n",
    "(if $n$ is divisible by $B$. Otherwise you have to figure out what to do with the final block, which isn't hard but makes the notation messier.) So, for example, the (sample) mean is then $<x, J>/n$ where $J$ is a vector of ones.\n",
    "\n",
    "Let's calculate the mean using blockwise calculations."
   ]
  },
  {
   "cell_type": "code",
   "execution_count": null,
   "metadata": {
    "colab": {
     "base_uri": "https://localhost:8080/"
    },
    "executionInfo": {
     "elapsed": 138,
     "status": "ok",
     "timestamp": 1713271323038,
     "user": {
      "displayName": "Brian Caffo",
      "userId": "07979705296072332292"
     },
     "user_tz": 240
    },
    "id": "Jwe-4O4S6Fyk",
    "outputId": "cc10a0ce-0dcc-455d-8af3-600582a336ba"
   },
   "outputs": [
    {
     "data": {
      "text/plain": [
       "[-0.03648099576614891, -0.01236374986065932]"
      ]
     },
     "execution_count": 13,
     "metadata": {},
     "output_type": "execute_result"
    }
   ],
   "source": [
    "n = s1.shape[0]\n",
    "B = 32\n",
    "## mean center the blocks\n",
    "mean1 = 0\n",
    "mean2 = 0\n",
    "for i in range(int(n/B)):\n",
    "    block_indices = np.array(range(B)) + i * B\n",
    "    mean1 += s1[block_indices].sum() / n\n",
    "    mean2 += s2[block_indices].sum() / n\n",
    "\n",
    "[mean1, mean2]"
   ]
  },
  {
   "cell_type": "markdown",
   "metadata": {
    "id": "r7F1ZOfZ6Fyl"
   },
   "source": [
    "Let's now center our time series."
   ]
  },
  {
   "cell_type": "code",
   "execution_count": null,
   "metadata": {
    "id": "ptxnou_86Fyl"
   },
   "outputs": [],
   "source": [
    "for i in range(int(n/B)):\n",
    "    block_indices = np.array(range(B)) + i * B\n",
    "    s1[block_indices] -= mean1\n",
    "    s2[block_indices] -= mean2"
   ]
  },
  {
   "cell_type": "markdown",
   "metadata": {
    "id": "NIi1UXGz6Fym"
   },
   "source": [
    "Now the (unbiased, sample) variance of centered vector $a$ is simply $<a, a>/(n-1)$."
   ]
  },
  {
   "cell_type": "code",
   "execution_count": null,
   "metadata": {
    "colab": {
     "base_uri": "https://localhost:8080/"
    },
    "executionInfo": {
     "elapsed": 14,
     "status": "ok",
     "timestamp": 1713271327058,
     "user": {
      "displayName": "Brian Caffo",
      "userId": "07979705296072332292"
     },
     "user_tz": 240
    },
    "id": "ESUei8em6Fym",
    "outputId": "13a0f842-f849-44bc-bf5d-6a5ae4ef5f9d"
   },
   "outputs": [
    {
     "data": {
      "text/plain": [
       "[0.9796337756284553, 0.9316733839552979]"
      ]
     },
     "execution_count": 15,
     "metadata": {},
     "output_type": "execute_result"
    }
   ],
   "source": [
    "v1, v2 = 0, 0\n",
    "for i in range(int(n/B)):\n",
    "    block_indices = np.array(range(B)) + i * B\n",
    "    v1 += np.sum(s1[block_indices] ** 2) / (n - 1)\n",
    "    v2 += np.sum(s2[block_indices] ** 2) / (n - 1)\n",
    "[v1, v2]"
   ]
  },
  {
   "cell_type": "markdown",
   "metadata": {
    "id": "vmNqIcEm6Fym"
   },
   "source": [
    "Now let's scale our vectors as"
   ]
  },
  {
   "cell_type": "code",
   "execution_count": null,
   "metadata": {
    "id": "8ViKBZuJ6Fyn"
   },
   "outputs": [],
   "source": [
    "sd1 = np.sqrt(v1)\n",
    "sd2 = np.sqrt(v2)\n",
    "for i in range(int(n/B)):\n",
    "    block_indices = np.array(range(B)) + i * B\n",
    "    s1[block_indices] /= v1\n",
    "    s2[block_indices] /= v2"
   ]
  },
  {
   "cell_type": "markdown",
   "metadata": {
    "id": "z7st-8Cr6Fyn"
   },
   "source": [
    "Now that our vectors are centered and scaled, the empirical correlation is simply $<a, b>/(n-1)$. Let's do that"
   ]
  },
  {
   "cell_type": "code",
   "execution_count": null,
   "metadata": {
    "colab": {
     "base_uri": "https://localhost:8080/"
    },
    "executionInfo": {
     "elapsed": 192,
     "status": "ok",
     "timestamp": 1713271330791,
     "user": {
      "displayName": "Brian Caffo",
      "userId": "07979705296072332292"
     },
     "user_tz": 240
    },
    "id": "bbUmONqb6Fyo",
    "outputId": "96654807-2113-4e4d-fd02-31b9c5177680"
   },
   "outputs": [
    {
     "data": {
      "text/plain": [
       "-0.020708540657507272"
      ]
     },
     "execution_count": 17,
     "metadata": {},
     "output_type": "execute_result"
    }
   ],
   "source": [
    "cor = 0\n",
    "for i in range(int(n/B)):\n",
    "    block_indices = np.array(range(B)) + i * B\n",
    "    cor += np.sum(s1[block_indices] * s2[block_indices]) / (n-1)\n",
    "cor"
   ]
  },
  {
   "cell_type": "markdown",
   "metadata": {
    "id": "OkhQ_8zB6Fyo"
   },
   "source": [
    "Finally, we want to \"regress out\" s2 from s1. Since we normalized our series, the correlation is slope coefficient from linear regression (regardless of the outcome and dependent variable) and the intercept is zero (since we centered). Thus, the residual we want is $e_{12} = s_1 - \\rho s_2$ where $\\rho$ is the correlation."
   ]
  },
  {
   "cell_type": "code",
   "execution_count": null,
   "metadata": {
    "id": "a7pGkt_V6Fyp"
   },
   "outputs": [],
   "source": [
    "f['processed/resid_s1_s2'] = np.empty(n)\n",
    "e12 = f['processed/resid_s1_s2']\n",
    "for i in range(int(n/B)):\n",
    "    block_indices = np.array(range(B)) + i * B\n",
    "    e12[block_indices] += s1[block_indices] - cor * s2[block_indices]"
   ]
  },
  {
   "cell_type": "markdown",
   "metadata": {
    "id": "vU9ZFzqn6Fyq"
   },
   "source": [
    "Now we have our new processed data stored in a vector. To close our\n",
    "database simply do:"
   ]
  },
  {
   "cell_type": "code",
   "execution_count": null,
   "metadata": {
    "id": "FbDa-Pgd6Fyq"
   },
   "outputs": [],
   "source": [
    "f.close()"
   ]
  },
  {
   "cell_type": "markdown",
   "metadata": {
    "id": "j361azRJ6Fyq"
   },
   "source": [
    "Now our processed data is stored on disk."
   ]
  },
  {
   "cell_type": "code",
   "execution_count": null,
   "metadata": {
    "id": "2mxaoPSP6Fyr"
   },
   "outputs": [],
   "source": [
    "f = h5py.File('sensor.hdf5', 'r')\n",
    "f['processed/resid_s1_s2']"
   ]
  },
  {
   "cell_type": "markdown",
   "metadata": {
    "id": "B0pncZs19l3U"
   },
   "source": [
    "We can close the database with the method `.close()` as follows."
   ]
  },
  {
   "cell_type": "code",
   "execution_count": null,
   "metadata": {
    "id": "m9pI9lOT6Fyr"
   },
   "outputs": [],
   "source": [
    "f.close()"
   ]
  }
 ],
 "metadata": {
  "colab": {
   "provenance": []
  },
  "kernelspec": {
   "display_name": "Python 3",
   "language": "python",
   "name": "python3"
  }
 },
 "nbformat": 4,
 "nbformat_minor": 0
}