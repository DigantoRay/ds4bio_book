{
 "cells": [
  {
   "cell_type": "markdown",
   "metadata": {
    "id": "cbqX9TMrgYpE"
   },
   "source": [
    "# Working with data"
   ]
  }
 ],
 "metadata": {
  "colab": {
   "provenance": []
  },
  "kernelspec": {
   "display_name": "Python 3",
   "language": "python",
   "name": "python3"
  }
 },
 "nbformat": 4,
 "nbformat_minor": 0
}