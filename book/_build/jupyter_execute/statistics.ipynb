{
 "cells": [
  {
   "cell_type": "markdown",
   "metadata": {
    "id": "7cIKi8o0IxCh"
   },
   "source": [
    "# Regression models\n",
    "\n"
   ]
  }
 ],
 "metadata": {
  "colab": {
   "provenance": []
  },
  "kernelspec": {
   "display_name": "Python 3",
   "language": "python",
   "name": "python3"
  }
 },
 "nbformat": 4,
 "nbformat_minor": 0
}