{
 "cells": [
  {
   "cell_type": "markdown",
   "metadata": {
    "id": "HFhvDbglLGMX"
   },
   "source": [
    "# Tools\n",
    "\n",
    "In this section we elaborate on the tools outlined in the introduction.\n",
    "\n",
    "\n"
   ]
  }
 ],
 "metadata": {
  "colab": {
   "authorship_tag": "ABX9TyO+xd8ThOU7RXdSB6CPCPke",
   "provenance": [
    {
     "file_id": "1zU4GsCTOxi7RBaSLXD1DmwY2gQjoAfpX",
     "timestamp": 1713225046369
    }
   ]
  },
  "kernelspec": {
   "display_name": "Python 3",
   "name": "python3"
  },
  "language_info": {
   "name": "python"
  }
 },
 "nbformat": 4,
 "nbformat_minor": 0
}