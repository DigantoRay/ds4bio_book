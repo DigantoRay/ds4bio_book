{
  "cells": [
    {
      "cell_type": "raw",
      "metadata": {},
      "source": [
        "---\n",
        "title: \"Measurement\"\n",
        "format: html\n",
        "---"
      ]
    },
    {
      "cell_type": "markdown",
      "metadata": {},
      "source": [
        "## Repeatability\n",
        "\n",
        "Repeatability or test/retest reliabity is the agreement of measurements across technical replications. \n",
        "\n",
        "### Mean/difference - Bland/Altman plots\n",
        "\n",
        "The Bland/Altman [@bland1999measuring] or Tukey mean/difference plot [@tukey1977exploratory] is a plot of agreement between two measured quantities.\n",
        "Here I use the mricloudpy package to read in data and convert it to a dataframe.\n",
        "Here, we have two measures of the same data. B/A plots typically add a 1.96 sd bar to detect outlying differences."
      ]
    },
    {
      "cell_type": "code",
      "metadata": {},
      "source": [
        "import statsmodels.api as sm\n",
        "import numpy as np\n",
        "\n",
        "import sys \n",
        "import os\n",
        "sys.path.append(\"/home/bcaffo/sandboxes/MRICloudPy/mricloudpy/\")\n",
        "\n",
        "from mricloudpy.mricloudpy import Data\n",
        "example = \"/home/bcaffo/sandboxes/MRICloudPy/mricloudpy/sample_data/\"\n",
        "d = Data(example)"
      ],
      "execution_count": null,
      "outputs": []
    },
    {
      "cell_type": "code",
      "metadata": {},
      "source": [
        "visit1 = Data(\"mricloud/visit1/\").df\n",
        "visit2 = Data(\"mricloud/visit2/\").df"
      ],
      "execution_count": null,
      "outputs": []
    },
    {
      "cell_type": "code",
      "metadata": {},
      "source": [
        "import statsmodels.api as sm\n",
        "import numpy as np\n",
        "import matplotlib.pyplot as plt\n",
        "\n",
        "csf1 = visit1[(visit1['Type'] == 1) & (visit1['Level'] == 1) & (visit1['Object'] == 'CSF')]['Volume']\n",
        "csf2 = visit2[(visit2['Type'] == 1) & (visit2['Level'] == 1) & (visit2['Object'] == 'CSF')]['Volume']\n",
        "plt.scatter(csf1, csf2)"
      ],
      "execution_count": null,
      "outputs": []
    },
    {
      "cell_type": "code",
      "metadata": {},
      "source": [
        "sm.graphics.mean_diff_plot(csf1, csf2)"
      ],
      "execution_count": null,
      "outputs": []
    },
    {
      "cell_type": "markdown",
      "metadata": {},
      "source": [
        "Often the B/A plot is done on the log scale. This plots the log ratio on the y axis versus the geometric mean on the x axis."
      ]
    },
    {
      "cell_type": "code",
      "metadata": {},
      "source": [
        "sm.graphics.mean_diff_plot(np.log(csf1), np.log(csf2))"
      ],
      "execution_count": null,
      "outputs": []
    },
    {
      "cell_type": "markdown",
      "metadata": {},
      "source": [
        "## ICC\n",
        "\n",
        "The intra-class correlation coefficient is a measure of agreement. It measures the ratio of the inter-subject variation to the total variation (intra and inter). I like to think of ICC as a random effect model. If $Y_{ij}$ is measurement $j$ on subject $i$ then consider the random effect model\n",
        "\n",
        "$$\n",
        "Y_{ij} = \\mu + U_i + \\epsilon_{ij}\n",
        "~~~~ U_i \\sim \\mathrm{N}(0,\\sigma^2_u) ~~~~ \\epsilon_{ij} \\sim \\mathrm{N}(0, \\sigma^2)\n",
        "$$\n",
        "\n",
        "Then, the ICC is defined as \n",
        "\n",
        "$$\n",
        "\\frac{\\sigma^2_U}{\\sigma^2_U + \\sigma^2}.\n",
        "$$\n",
        "\n",
        "Note, this ICC model applies even if there's more than 2 measurements per subject. \n",
        "\n",
        "Consider two subjects, however. There's an easy moment estimator in that\n",
        "$$\n",
        "Y_{i2} - Y_{i1} = \\epsilon_{i2} - \\epsilon_{i1}\n",
        "$$\n",
        "Thus, the variance of the differences  is an estimator of $2\\sigma^2. Similarly,\n",
        "$$\n",
        "(Y_{i1} + Y_{i2})/2 = U_i + (\\epsilon_{i2} + \\epsilon_{i1})/2.\n",
        "$$\n",
        "Thus, the variance of the average is an estimate of $\\sigma_u^2 + \\sigma^2 / 4$. Thus, we have two equations and two uknowns. This solution has the benefit that it doesn't depend on the normality of the random effects. However, it can produce negative estimates. Another approach simply uses maximum likelihood.\n"
      ]
    },
    {
      "cell_type": "code",
      "metadata": {},
      "source": [
        "import pingouin as pg\n",
        "import pandas as pd\n",
        "import statsmodels.formula.api as smf\n",
        "\n",
        "\n",
        "csfdf1 = visit1[(visit1['Type'] == 1) & (visit1['Level'] == 1) & (visit1['Object'] == 'CSF')]\n",
        "csfdf2 = visit2[(visit2['Type'] == 1) & (visit2['Level'] == 1) & (visit2['Object'] == 'CSF')]\n",
        "\n",
        "csfdf = pd.concat( [csfdf1, csfdf2] )\n",
        "csfdf['logvolume'] = np.log(csfdf['Volume'])\n",
        "\n",
        "md = smf.mixedlm(\"logvolume ~ 1\", csfdf, groups=csfdf[\"ID\"]).fit()\n",
        "md.summary()\n",
        "\n",
        "sigmasq = md.scale"
      ],
      "execution_count": null,
      "outputs": []
    }
  ],
  "metadata": {
    "kernelspec": {
      "name": "python3",
      "language": "python",
      "display_name": "Python 3"
    }
  },
  "nbformat": 4,
  "nbformat_minor": 4
}