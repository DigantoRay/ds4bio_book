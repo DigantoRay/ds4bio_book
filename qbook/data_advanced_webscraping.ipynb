{
  "cells": [
    {
      "cell_type": "markdown",
      "metadata": {},
      "source": [
        "# Advanced web scraping\n",
        "\n",
        "## Before you begin\n",
        "\n",
        "Before you start webscraping make sure to consider what you're\n",
        "doing. Does your scraping violate TOS? Will it inconvenience the site,\n",
        "other users? Per Uncle Ben: WGPCGR.\n",
        "\n",
        "Also, before you begin web scraping, look for a download data option\n",
        "or existing solution. Probably someone has run up against the same\n",
        "problem and worked it out. For example, we're going to scrape some\n",
        "wikipedia tables, which there's a million other solutions for,\n",
        "including a wikipedia\n",
        "[api](https://www.mediawiki.org/wiki/API:Main_page).\n",
        "\n",
        "## Basic web scraping\n",
        "\n",
        "We covered this last chapter. However, let's do an example of static page parsing just to get\n",
        "started.  Consider scraping the table of top 10 heat waves from\n",
        "[wikipedia](https://en.wikipedia.org/wiki/List_of_natural_disasters_by_death_toll). First,\n",
        "we open the url, then parse it using BeautifulSoup, then load it into\n",
        "a pandas dataframe.\n"
      ]
    },
    {
      "cell_type": "code",
      "metadata": {},
      "source": [
        "from urllib.request import urlopen\n",
        "from bs4 import BeautifulSoup as bs\n",
        "import pandas as pd\n",
        "url = \"https://en.wikipedia.org/wiki/List_of_natural_disasters_by_death_toll\"\n",
        "html = urlopen(url)\n",
        "parsed = bs(html, 'html.parser').findAll(\"table\")\n",
        "pd.read_html(str(parsed))[11]"
      ],
      "execution_count": null,
      "outputs": []
    },
    {
      "cell_type": "markdown",
      "metadata": {},
      "source": [
        "The workflow as as follows:\n",
        "\n",
        "+ We used the developer console on the webpage to inspect the page and its properties.\n",
        "+ We opened the url with `urlopen`\n",
        "+ We parsed the webpage with `BeautifulSoup` then used the method `findAll` on that to search for every table\n",
        "+ Pandas has a utility that converts a html tables into a dataframe. In this case it creates a list of tables, where the 12th one is the heatwaves. Note it needs the data to be converted to a string before proceeding.\n",
        "\n",
        "This variation of web scraping couldn't be easier. However, what if the content we're interested in only exists after interacting with the page? Then we need a more sophisticated solution.\n",
        "\n",
        "## Form filling\n",
        "Web scraping can require posting to forms, such as logins. This can be\n",
        "done directly with python / R without elaborate programming, for\n",
        "example using the `requests` library. However, make sure you aren't\n",
        "violating a web site's TOS and also make sure you're not posting your\n",
        "password to github as you commit scraping code. In general, don't\n",
        "create a security hole for your account by web scraping it. Again,\n",
        "also check to make sure that the site doesn't have an API with an\n",
        "authentication solution already before writing the code to post\n",
        "authentication. Many websites that want you to programmatically grab\n",
        "the data build an API.\n",
        "\n",
        "## Programmatically web browsing\n",
        "\n",
        "Some web scraping requires us to interact with the webpage. This\n",
        "requires a much more advanced solution where we programmatically use a\n",
        "web browser to interact with the page. I'm using selenium and\n",
        "chromedriver. To do this, I had to download\n",
        "[chromedriver](https://chromedriver.chromium.org/downloads) and set it\n",
        "so that it was in my unix `PATH`.\n"
      ]
    },
    {
      "cell_type": "code",
      "metadata": {},
      "source": [
        "#| eval: false\n",
        "from selenium import webdriver\n",
        "driver = webdriver.Chrome()\n",
        "driver.quit()"
      ],
      "execution_count": null,
      "outputs": []
    },
    {
      "cell_type": "markdown",
      "metadata": {},
      "source": [
        "If all went well, a chrome window appeared then closed. That's the\n",
        "browser we're going to program. If you look closely at the browser\n",
        "before you close it, there's a banner up to that says \"Chrome is being\n",
        "controlled by automated test software.\" Let's go through the example\n",
        "on the selenium docs\n",
        "[here](https://www.selenium.dev/documentation/webdriver/getting_started/first_script/). First\n",
        "let's vist a few pages. We'll go to my totally awesome web page that I\n",
        "meticulously maintain every day then duckduckgo. We'll wait a few\n",
        "seconds in between.  My site is created and hosted by google sites,\n",
        "which seems reasonable that they would store a cookie so that I can\n",
        "log in and edit my site (which I almost never do). Duckduckgo is a\n",
        "privacy browser, so let's check to see if they create a cookie. (Hint,\n",
        "I noticed that selenium doesn't like redirects, so use the actual page\n",
        "url.)\n"
      ]
    },
    {
      "cell_type": "code",
      "metadata": {},
      "source": [
        "#| eval: false\n",
        "driver = webdriver.Chrome()\n",
        "driver.get(\"https://sites.google.com/view/bcaffo/home\")\n",
        "print(driver.get_cookies())\n",
        "driver.implicitly_wait(5)\n",
        "## Let's get rid of all cookies before we visit duckduckgo\n",
        "driver.delete_all_cookies()\n",
        "driver.get(\"https://duckduckgo.com/\")\n",
        "print(driver.get_cookies())"
      ],
      "execution_count": null,
      "outputs": []
    },
    {
      "cell_type": "markdown",
      "metadata": {},
      "source": [
        "For me, at least, this prints out the cookie info for my google site\n",
        "then nothing for ddg. (I'm not evaluating the code in quarto since I\n",
        "don't want to bring up the browser when I compile the document.)\n",
        "\n",
        "Now let's find the page elements that we'd like to interact\n",
        "with. There's a text box that we want to submit a search command into\n",
        "and a button that we'll need to press. When I go to ddg and press\n",
        "CTRL-I I find that the search box is:\n",
        "\n",
        "```\n",
        "<input id=\"search_form_input_homepage\" class=\"js-search-input search__input--adv\" type=\"text\" autocomplete=\"off\" name=\"q\" tabindex=\"1\" value=\"\" autocapitalize=\"off\" autocorrect=\"off\" placeholder=\"Search the web without being tracked\">\n",
        "```\n",
        "\n",
        "Notice, the `name=\"q\"` html name for the search form. When I dig around and find the submit button, it's code is:\n",
        "\n",
        "```\n",
        "<input id=\"search_button_homepage\" class=\"search__button  js-search-button\" type=\"submit\" tabindex=\"2\" value=\"S\">\n",
        "```\n",
        "\n",
        "Notice its `id` is `search_button_homepage`. Let's find these elements."
      ]
    },
    {
      "cell_type": "code",
      "metadata": {},
      "source": [
        "#| eval: false\n",
        "search_box = driver.find_element(by=By.NAME, value=\"q\")\n",
        "search_button = driver.find_element(by=By.ID, value=\"search_button_homepage\")"
      ],
      "execution_count": null,
      "outputs": []
    },
    {
      "cell_type": "markdown",
      "metadata": {},
      "source": [
        "Now let's send the info and press submit"
      ]
    },
    {
      "cell_type": "code",
      "metadata": {},
      "source": [
        "#| eval: false\n",
        "search_box.send_keys(\"Selenium\")\n",
        "search_button.click()\n",
        "driver.implicitly_wait(10)\n",
        "driver.save_screenshot(\"assets/images/webscraping.png\")\n",
        "page_source = driver.page_source\n",
        "driver.close()"
      ],
      "execution_count": null,
      "outputs": []
    },
    {
      "cell_type": "markdown",
      "metadata": {},
      "source": [
        "Here, we saved the page_source as a variable that then can be parsed\n",
        "with other html parses (like bs4). Play around with the methods\n",
        "associated with `driver` and navigate the web. You'll see that\n",
        "selenium is pretty incredible. Here's the screenshot that we took:\n",
        "\n",
        "![Screenshot of webscraping](assets/images/webscraping.png)\n",
        "\n",
        "\n",
        "## Homework\n",
        "+ Write a function that takes a search term, enters it into [this link](https://smart-stats.github.io/advanced_ds4bio_book/qbook/assets/searchbox..html) and returns the number of characters from the output.\n",
        "+ Write a function that solves [THE MAZE](https://smart-stats.github.io/advanced_ds4bio_book/qbook/assets/maze.html) and returns your current location at its solution"
      ]
    }
  ],
  "metadata": {
    "kernelspec": {
      "name": "python3",
      "language": "python",
      "display_name": "Python 3"
    }
  },
  "nbformat": 4,
  "nbformat_minor": 4
}