{
  "cells": [
    {
      "cell_type": "markdown",
      "metadata": {},
      "source": [
        "# Webscraping\n",
        "\n",
        "We'll need some packages to start, `requests`, `beautifulsoup4` and\n",
        "`selenium`. Requesting elements from a static web page is very\n",
        "straightforward. Let's take an example by trying to grab and plot the\n",
        "table of multiple Olympic medalists from Wikipedia then create a\n",
        "barplot of which sports have the most multiple medal winners.\n",
        "\n",
        "First we have to grab the data from the url, then pass it to\n",
        "beautifulsoup4, which parses the html, then pass it to pandas. First\n",
        "let's import the packages we need."
      ]
    },
    {
      "cell_type": "code",
      "metadata": {},
      "source": [
        "import requests as rq\n",
        "import bs4\n",
        "import pandas as pd"
      ],
      "execution_count": null,
      "outputs": []
    },
    {
      "cell_type": "markdown",
      "metadata": {},
      "source": [
        "We then need to read the web page into data."
      ]
    },
    {
      "cell_type": "code",
      "metadata": {},
      "source": [
        "url = 'https://en.wikipedia.org/wiki/List_of_multiple_Olympic_gold_medalists'\n",
        "page = rq.get(url)\n",
        "## print out the first 200 characters just to see what it looks like\n",
        "page.text[0 : 99]"
      ],
      "execution_count": null,
      "outputs": []
    },
    {
      "cell_type": "markdown",
      "metadata": {},
      "source": [
        "Now let's read the page into bs4. Then we want to find the tables in\n",
        "the page. We add the class and wikitable information to specify which\n",
        "tables that we want. If you want to find classes, you can use a web\n",
        "tool, like selectorgadget or viewing the page source."
      ]
    },
    {
      "cell_type": "code",
      "metadata": {},
      "source": [
        "bs4page = bs4.BeautifulSoup(page.text, 'html.parser')\n",
        "tables = bs4page.find('table',{'class':\"wikitable\"})"
      ],
      "execution_count": null,
      "outputs": []
    },
    {
      "cell_type": "code",
      "metadata": {},
      "source": [
        "medals = pd.read_html(str(tables))"
      ],
      "execution_count": null,
      "outputs": []
    },
    {
      "cell_type": "markdown",
      "metadata": {},
      "source": [
        "Now we should take the html that we've saved, then read it into\n",
        "pandas. Fortunately, pandas has a `read_html` method. So, we convert\n",
        "our tables to strings then read it in. Since there's multiple tables,\n",
        "we grab the first one."
      ]
    },
    {
      "cell_type": "code",
      "metadata": {},
      "source": [
        "medals = pd.read_html(str(tables))[0]\n",
        "## There's an empty row\n",
        "medals = medals.dropna()\n",
        "medals.head()"
      ],
      "execution_count": null,
      "outputs": []
    },
    {
      "cell_type": "markdown",
      "metadata": {},
      "source": [
        "Now we're in a position to build our plot. Let's look at the count of\n",
        "4 or more medal winers by sport and games."
      ]
    },
    {
      "cell_type": "code",
      "metadata": {},
      "source": [
        "medals[['Sport', 'Games']].value_counts().plot.bar();"
      ],
      "execution_count": null,
      "outputs": []
    },
    {
      "cell_type": "markdown",
      "metadata": {},
      "source": [
        "## Selenium\n",
        "\n",
        "If the page has javacript, your basic web scraping may not work. In\n",
        "this case, you not only need to get and parse the page, but also to\n",
        "interact with the javascript. For this, enter Selenium. This is a\n",
        "python browser that allows you to automate web navigation. We'll cover\n",
        "that in the next chapter.\n"
      ]
    }
  ],
  "metadata": {
    "kernelspec": {
      "name": "python3",
      "language": "python",
      "display_name": "Python 3"
    }
  },
  "nbformat": 4,
  "nbformat_minor": 4
}