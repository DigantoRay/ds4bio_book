{
  "cells": [
    {
      "cell_type": "markdown",
      "metadata": {},
      "source": [
        "# Python programming\n",
        "Try the following requests input from a user using the command `input` then it tests the value of the input using an `if` statement. A couple of things to take note of. First, python uses the white space instead of inclosing the statement in braces or parentheses. Secondly, don't forget the colons after programming statements like `if`, `else`, `for`, `def` and so on. Otherwise, if/else statements work just like you'd expect. "
      ]
    },
    {
      "cell_type": "code",
      "metadata": {},
      "source": [
        "# do this if you'd like to prompt for an input\n",
        "# x = input(\"are you mean (y/n)? > \")\n",
        "# Let's just assume the user input 'n'\n",
        "x = 'n'\n",
        "if x == 'y': \n",
        " print(\"Slytherine!\")\n",
        "else:\n",
        " print(\"Gryffindor\")"
      ],
      "execution_count": null,
      "outputs": []
    },
    {
      "cell_type": "markdown",
      "metadata": {},
      "source": [
        "Just to further describe white space useage in python, consider testing whether `statementA` is True. Below, `statementB` is executed as part of the if statement whereas `statementC` is outside of it because it's not indented. This is often considered an eye rolling aspect of the language, but I think it's nice in the sense that it bakes good code identation practices into the language.\n",
        "\n",
        "```\n",
        "## Some more about white space\n",
        "if statementA:\n",
        "  statementB   # Executed if statementA is True\n",
        "statementC     # Executed regardless since it's not indented\n",
        "```\n",
        "The generic structure of if statements in python are \n",
        "```\n",
        "if statement1 :\n",
        " ...\n",
        "elif statement2 :\n",
        " ...\n",
        "else \n",
        " ...\n",
        "```\n",
        "Here's an example (note this is just equal to the statement `(a < 0) - (a > 0)`"
      ]
    },
    {
      "cell_type": "code",
      "metadata": {},
      "source": [
        "a = 5\n",
        "\n",
        "if a < 0 :\n",
        "  a = -1\n",
        "elif a > 0 :\n",
        "  a = 1\n",
        "else :\n",
        "  a = 0\n",
        "\n",
        "print(a)"
      ],
      "execution_count": null,
      "outputs": []
    },
    {
      "cell_type": "markdown",
      "metadata": {},
      "source": [
        "`for` and `while` loops can be used for iteration. Here's some examples"
      ]
    },
    {
      "cell_type": "code",
      "metadata": {},
      "source": [
        "for i in range(4) :\n",
        " print(i)\n"
      ],
      "execution_count": null,
      "outputs": []
    },
    {
      "cell_type": "code",
      "metadata": {},
      "source": [
        "x = 4\n",
        "while x > 0 :\n",
        " x = x - 1\n",
        " print(x)"
      ],
      "execution_count": null,
      "outputs": []
    },
    {
      "cell_type": "markdown",
      "metadata": {},
      "source": [
        "Note `for` loops can iterate over list-like structures."
      ]
    },
    {
      "cell_type": "code",
      "metadata": {},
      "source": [
        "for w in 'word':\n",
        " print(w)"
      ],
      "execution_count": null,
      "outputs": []
    },
    {
      "cell_type": "markdown",
      "metadata": {},
      "source": [
        "The range function is useful for creating a structure to loop over. It creates a data type that can be iterated over, but isn't itself a list. So if you want a list out of it, you have to convert it."
      ]
    },
    {
      "cell_type": "code",
      "metadata": {},
      "source": [
        "a = range(3)\n",
        "print(a)\n",
        "print(list(a))"
      ],
      "execution_count": null,
      "outputs": []
    },
    {
      "cell_type": "markdown",
      "metadata": {},
      "source": [
        "List comprehension is really useful for quickly creating lists. The format is `[expression for item in list if condition]`. Here's an example where we square the even integers."
      ]
    },
    {
      "cell_type": "code",
      "metadata": {},
      "source": [
        "a = [x**2 for x in range(25) if x % 2 == 0]\n",
        "print(a)"
      ],
      "execution_count": null,
      "outputs": []
    }
  ],
  "metadata": {
    "kernelspec": {
      "name": "python3",
      "language": "python",
      "display_name": "Python 3"
    }
  },
  "nbformat": 4,
  "nbformat_minor": 4
}