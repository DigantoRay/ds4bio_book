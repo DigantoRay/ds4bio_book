{
  "cells": [
    {
      "cell_type": "markdown",
      "metadata": {},
      "source": [
        "# Data cleaning, an example\n",
        "\n",
        "We're going to cover data cleaning by an example. Primarily, you're\n",
        "going to work in `pandas`, a library for manipulating tabular data.\n",
        "\n",
        "## Imports and files\n",
        "\n",
        "The first thing we'll try is loading some data and plotting it. To do\n",
        "this, we'll need some packages. Let's load up pandas, a package for\n",
        "data management, matplotlib for plotting and numpy for numerical\n",
        "manipulations.  The python command for this is `import`."
      ]
    },
    {
      "cell_type": "code",
      "metadata": {},
      "source": [
        "import pandas as pd\n",
        "import numpy as np\n",
        "import matplotlib as mpl"
      ],
      "execution_count": null,
      "outputs": []
    },
    {
      "cell_type": "markdown",
      "metadata": {},
      "source": [
        "we say `as` in order to not have to type out the entire module name to access its methods.\n",
        "\n",
        "## Reading data in with pandas\n",
        "\n",
        "Let's now read in an MRICloud dataset using pandas. We want to use the\n",
        "function `read_csv` within pandas. Notice we imported pandas `as pd`\n",
        "so the command is `pd.read_csv`. Also, pandas can accept URLs, so we\n",
        "just put the link to the file in the argument. The data we want to\n",
        "read in is in a github repo I created."
      ]
    },
    {
      "cell_type": "code",
      "metadata": {},
      "source": [
        "df = pd.read_csv(\"https://raw.githubusercontent.com/bcaffo/ds4bme_intro/master/data/kirby127a_3_1_ax_283Labels_M2_corrected_stats.csv\")"
      ],
      "execution_count": null,
      "outputs": []
    },
    {
      "cell_type": "markdown",
      "metadata": {},
      "source": [
        "You can see the variables created with `locals`. However, this shows you everything and you usually\n",
        "have to text process it a little.\n",
        "\n",
        "Let's look at the first 4 rows of our dataframe. The object `dataset`\n",
        "is a `pandas` object with associated methods. One is `head` which\n",
        "allows one to see the first few rows of data."
      ]
    },
    {
      "cell_type": "code",
      "metadata": {},
      "source": [
        "df.head(4)"
      ],
      "execution_count": null,
      "outputs": []
    },
    {
      "cell_type": "markdown",
      "metadata": {},
      "source": [
        "# Working with the data\n",
        "\n",
        "Let's get rid of the column `rawid` and the unnamed column since\n",
        "they're kind of useless for today's lecture. Also let's work with only\n",
        "the volume."
      ]
    },
    {
      "cell_type": "code",
      "metadata": {},
      "source": [
        "df = df.drop(['Unnamed: 0', 'rawid', 'min', 'max', 'mean', 'std'], axis = 1)"
      ],
      "execution_count": null,
      "outputs": []
    },
    {
      "cell_type": "markdown",
      "metadata": {},
      "source": [
        "Now let's create a column called `icv` for intra-cranial volume. ICV\n",
        "is defined as the summ of the Type I Level 1 structures and\n",
        "cerebrospinal fluid. For the rest of this lecture, we're just going to\n",
        "look at this type and level. Here `df['type']` refers to the pandas column `type`. \n",
        "You can also reference it with `df.type`. However, the latter has problems when the\n",
        "variable name has spaces or periods ...\n"
      ]
    },
    {
      "cell_type": "code",
      "metadata": {},
      "source": [
        "t1l1 = df.loc[(df['type'] == 1) & (df['level'] == 1)]\n",
        "## Create a new column based on ICV\n",
        "t1l1 = t1l1.assign(icv = sum(t1l1['volume']))\n",
        "t1l1"
      ],
      "execution_count": null,
      "outputs": []
    },
    {
      "cell_type": "markdown",
      "metadata": {},
      "source": [
        "Now the TBV is defined as the sum of the volume for all rows except CSF. "
      ]
    },
    {
      "cell_type": "code",
      "metadata": {},
      "source": [
        "t1l1 = t1l1.assign(tbv = sum(t1l1['volume'][(t1l1.roi != 'CSF')]))\n",
        "t1l1"
      ],
      "execution_count": null,
      "outputs": []
    },
    {
      "cell_type": "markdown",
      "metadata": {},
      "source": [
        "Let's look at brain composition."
      ]
    },
    {
      "cell_type": "code",
      "metadata": {},
      "source": [
        "t1l1 = t1l1.assign(comp = t1l1['volume'] / t1l1['tbv'])\n",
        "t1l1"
      ],
      "execution_count": null,
      "outputs": []
    },
    {
      "cell_type": "markdown",
      "metadata": {},
      "source": [
        "# Plotting\n",
        "\n",
        "Pandas has built in methods for plotting. Later on, we'll try different plotting packages. "
      ]
    },
    {
      "cell_type": "code",
      "metadata": {},
      "source": [
        "t1l1.plot.bar(x='roi',y='comp');"
      ],
      "execution_count": null,
      "outputs": []
    },
    {
      "cell_type": "markdown",
      "metadata": {},
      "source": [
        "Putting the semicolon after the statement omits a message.\n",
        "\n",
        "In colab, you have to install packages it doesn't have everytime you\n",
        "reconnect the runtime. I've commented this out here, since plotly is\n",
        "already installed locally for me. To install in colab, use a `!` in\n",
        "front of the unix command. In this case we're using the python package\n",
        "management system `pip` to install plotly, an interactive graphing\n",
        "envinronment. \n",
        "\n",
        "```\n",
        "pip install plotly==4.0.0\n",
        "```\n",
        "\n",
        "Here the 4.0.0 is a version of plotly. If you want the latest stable release version, just\n",
        "omit this.\n",
        "\n",
        "In a jupyter cell, you can execute a command line command by prefacing the statement\n",
        "with an exclamation point. \n",
        "\n",
        "We can create an interactive plot with `plotly`. This is a\n",
        "professionally developed package that makes interactive plotting very\n",
        "easy. Also, it renders nicely within colab or jupyter notebooks. For\n",
        "plotly graphics, I would suggest assigning the graph to a variable\n",
        "then calling that variable to show the plot. This way you can modify\n",
        "the plot later if you'd like."
      ]
    },
    {
      "cell_type": "code",
      "metadata": {},
      "source": [
        "import plotly.express as px\n",
        "myplot = px.bar(t1l1, x='roi', y='volume')\n",
        "myplot.show()"
      ],
      "execution_count": null,
      "outputs": []
    }
  ],
  "metadata": {
    "kernelspec": {
      "name": "python3",
      "language": "python",
      "display_name": "Python 3"
    }
  },
  "nbformat": 4,
  "nbformat_minor": 4
}