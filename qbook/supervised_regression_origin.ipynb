{
  "cells": [
    {
      "cell_type": "markdown",
      "metadata": {},
      "source": [
        "# Regression through the origin\n",
        "\n",
        "In this notebook, we investigate a simple poblem where we'd like to\n",
        "use one scaled regressor to predict another. That is, let $Y_1, \\ldots\n",
        "Y_n$ be a collection of variables we'd like to predict and $X_1,\n",
        "\\ldots, X_n$ be predictors. Consider minimizing\n",
        "\n",
        "$$\n",
        "l = \\sum_i ( Y_i - \\beta X_i)^2 = || Y - \\beta X||^2.\n",
        "$$\n",
        "\n",
        "Taking a derivative of $l$ with respect to $\\beta$ yields \n",
        "\n",
        "$$\n",
        "l' = - \\sum_i 2 (Y_i - \\beta X_i) X_i.\n",
        "$$\n",
        "\n",
        "If we set this equal to zero and solve for beta we obtain the classic solution:\n",
        "\n",
        "$$\n",
        "\\hat \\beta = \\frac{\\sum_i Y_i X_i}{\\sum_i X_i^2} = \\frac{<Y, X>}{||X||^2}.\n",
        "$$\n",
        "\n",
        "Note further, if we take a second derivative we get\n",
        "\n",
        "$$\n",
        "l'' = \\sum_i 2 x_i^2  \n",
        "$$\n",
        "\n",
        "which is strictly positive unless all of the $x_i$ are zero (a case of\n",
        "zero variation in the predictor where regresssion is\n",
        "uninteresting). Regression through the origin is a very useful version\n",
        "of regression, but it's quite limited in its application. Rarely do we\n",
        "want to fit a line that is forced to go through the origin, or stated\n",
        "equivalently, rarely do we want a prediction algorithm for $Y$ that is\n",
        "simply a scale change of $X$. Typically, we at least also want an\n",
        "intercept. In the example that follows, we'll address this by\n",
        "centering the data so that the origin is the mean of the $Y$ and the\n",
        "mean of the $X$. As it turns out, this is the same as fitting the\n",
        "intercept, but we'll do that more formally in the next section.\n",
        "\n",
        "First let's load the necessary packages."
      ]
    },
    {
      "cell_type": "code",
      "metadata": {},
      "source": [
        "import pandas as pd\n",
        "import numpy as np\n",
        "import matplotlib.pyplot as plt"
      ],
      "execution_count": null,
      "outputs": []
    },
    {
      "cell_type": "markdown",
      "metadata": {},
      "source": [
        "Now let's download and read in the data."
      ]
    },
    {
      "cell_type": "code",
      "metadata": {},
      "source": [
        "dat = pd.read_csv(\"https://raw.githubusercontent.com/bcaffo/ds4bme_intro/master/data/oasis.csv\")\n",
        "dat.head() "
      ],
      "execution_count": null,
      "outputs": []
    },
    {
      "cell_type": "markdown",
      "metadata": {},
      "source": [
        "It's almost always a good idea to plot the data before fitting the model."
      ]
    },
    {
      "cell_type": "code",
      "metadata": {},
      "source": [
        "x = dat.T2\n",
        "y = dat.PD\n",
        "plt.plot(x, y, 'o')"
      ],
      "execution_count": null,
      "outputs": []
    },
    {
      "cell_type": "markdown",
      "metadata": {},
      "source": [
        "Now, let's center the data as we mentioned so that it seems more\n",
        "reasonable to have the line go through the origin. Notice here, the\n",
        "middle of the data, both $Y$ and $X$, is right at (0, 0)."
      ]
    },
    {
      "cell_type": "code",
      "metadata": {},
      "source": [
        "x = x - np.mean(x)\n",
        "y = y - np.mean(y)\n",
        "plt.plot(x, y, 'o')"
      ],
      "execution_count": null,
      "outputs": []
    },
    {
      "cell_type": "markdown",
      "metadata": {},
      "source": [
        "Here's our slope estimate according to our formula."
      ]
    },
    {
      "cell_type": "code",
      "metadata": {},
      "source": [
        "b = sum(y * x) / sum(x ** 2 )\n",
        "b"
      ],
      "execution_count": null,
      "outputs": []
    },
    {
      "cell_type": "markdown",
      "metadata": {},
      "source": [
        "Let's plot it so to see how it did. It looks good. Now let's see if we\n",
        "can do a line that doesn't necessarily have to go through the origin."
      ]
    },
    {
      "cell_type": "code",
      "metadata": {},
      "source": [
        "plt.plot(x, y, 'o')\n",
        "t = np.array([-1.5, 2.5])\n",
        "plt.plot(t, t * b)"
      ],
      "execution_count": null,
      "outputs": []
    }
  ],
  "metadata": {
    "kernelspec": {
      "name": "python3",
      "language": "python",
      "display_name": "Python 3"
    }
  },
  "nbformat": 4,
  "nbformat_minor": 4
}