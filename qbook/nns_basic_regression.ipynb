{
  "cells": [
    {
      "cell_type": "markdown",
      "metadata": {},
      "source": [
        "# Basic regression as a NN"
      ]
    },
    {
      "cell_type": "code",
      "metadata": {},
      "source": [
        "import pandas as pd\n",
        "import torch\n",
        "import statsmodels.formula.api as smf\n",
        "import statsmodels as sm\n",
        "import seaborn as sns\n",
        "import matplotlib.pyplot as plt\n",
        "\n",
        "## Read in the data and display a few rows\n",
        "dat = pd.read_csv(\"https://raw.githubusercontent.com/bcaffo/ds4bme_intro/master/data/oasis.csv\")\n",
        "dat.head(4)"
      ],
      "execution_count": null,
      "outputs": []
    },
    {
      "cell_type": "code",
      "metadata": {},
      "source": [
        "sns.scatterplot(x = dat['T2'], y = dat['PD'])"
      ],
      "execution_count": null,
      "outputs": []
    },
    {
      "cell_type": "code",
      "metadata": {},
      "source": [
        "fit = smf.ols('PD ~ T2', data = dat).fit()\n",
        "fit.summary()"
      ],
      "execution_count": null,
      "outputs": []
    },
    {
      "cell_type": "code",
      "metadata": {},
      "source": [
        "# The in sample predictions\n",
        "yhat = fit.predict(dat['T2'])\n",
        "\n",
        "# Make sure that it's adding the intercept\n",
        "#test = 0.3138 + dat['T2'] * 0.7832\n",
        "#sns.scatterplot(yhat,test)\n",
        "\n",
        "## A plot of the in sample predicted values\n",
        "## versus the actual outcomes\n",
        "sns.scatterplot(x = yhat, y = dat['PD'])\n",
        "plt.plot([-1, 3], [-1, 3], linewidth=2)"
      ],
      "execution_count": null,
      "outputs": []
    },
    {
      "cell_type": "code",
      "metadata": {},
      "source": [
        "n = dat.shape[0]\n",
        "\n",
        "## Get the y and x from \n",
        "xtraining = torch.from_numpy(dat['T2'].values)\n",
        "ytraining = torch.from_numpy(dat['PD'].values)\n",
        "\n",
        "## PT wants floats\n",
        "xtraining = xtraining.float()\n",
        "ytraining = ytraining.float()\n",
        "\n",
        "## Dimension is 1xn not nx1\n",
        "## squeeze the second dimension\n",
        "xtraining = xtraining.unsqueeze(1)\n",
        "ytraining = ytraining.unsqueeze(1)\n",
        "\n",
        "## Show that everything is the right size\n",
        "[xtraining.shape, \n",
        " ytraining.shape,\n",
        " [n, 1]\n",
        " ]"
      ],
      "execution_count": null,
      "outputs": []
    },
    {
      "cell_type": "code",
      "metadata": {},
      "source": [
        "## Show that linear regression is a pytorch \n",
        "model = torch.nn.Sequential(\n",
        "    torch.nn.Linear(1, 1)\n",
        ")\n",
        "\n",
        "## MSE is the loss function\n",
        "loss_fn = torch.nn.MSELoss(reduction='sum')\n",
        "\n",
        "## Set the optimizer\n",
        "## There are lots of choices\n",
        "optimizer = torch.optim.SGD(model.parameters(), lr=1e-4)\n",
        "\n",
        "## Loop over iterations\n",
        "for t in range(10000):\n",
        "\n",
        "    ## Forward propagation\n",
        "  y_pred = model(xtraining)\n",
        "    \n",
        "  ## the loss for this interation\n",
        "  loss = loss_fn(y_pred, ytraining)\n",
        "\n",
        "  #print(t, loss.item() / n)\n",
        "\n",
        "  ## Zero out the gradients before adding them up \n",
        "  optimizer.zero_grad()\n",
        "  \n",
        "  ## Backprop\n",
        "  loss.backward()\n",
        "  \n",
        "  ## Optimization step\n",
        "  optimizer.step()"
      ],
      "execution_count": null,
      "outputs": []
    },
    {
      "cell_type": "code",
      "metadata": {},
      "source": [
        "ytest = model(xtraining).detach().numpy().reshape(-1)\n",
        "sns.scatterplot(x = ytest, y = yhat)\n",
        "plt.plot([-1, 3], [-1, 3], linewidth=2)"
      ],
      "execution_count": null,
      "outputs": []
    },
    {
      "cell_type": "code",
      "metadata": {},
      "source": [
        "for param in model.parameters():\n",
        "  print(param.data)"
      ],
      "execution_count": null,
      "outputs": []
    }
  ],
  "metadata": {
    "kernelspec": {
      "name": "python3",
      "language": "python",
      "display_name": "Python 3"
    }
  },
  "nbformat": 4,
  "nbformat_minor": 4
}