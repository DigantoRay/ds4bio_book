{
  "cells": [
    {
      "cell_type": "markdown",
      "metadata": {},
      "source": [
        "# Numpy\n",
        "\n",
        "Numpy is an essential core component of doing statistics in\n",
        "python. Numpy basically contains all of the basic mathematical\n",
        "functions that you need. Let's load in some data and work with it a\n",
        "bit. Here we're going to be downloading the cumulative daily case\n",
        "counts of Covid-19 for Italy. (Modify the code in the obvious way to\n",
        "pick another country. The data is from the JHU Covid-19 dashboard, a\n",
        "fantastic data science project from the Center for Systems Science\n",
        "Engineering at JHU.)"
      ]
    },
    {
      "cell_type": "code",
      "metadata": {},
      "source": [
        "import pandas as pd\n",
        "import numpy as np\n",
        "import matplotlib.pyplot as plt\n",
        "\n",
        "dat = pd.read_csv('https://raw.githubusercontent.com/CSSEGISandData/COVID-19/master/csse_covid_19_data/csse_covid_19_time_series/time_series_covid19_confirmed_global.csv')\n",
        "## Get Italy, drop everyrthing except dates, convert to long (unstack converts to tuple)\n",
        "Italy = dat[dat['Country/Region'] == 'Italy'].drop([\"Province/State\", \"Country/Region\", \"Lat\", \"Long\"], axis=1).unstack()"
      ],
      "execution_count": null,
      "outputs": []
    },
    {
      "cell_type": "markdown",
      "metadata": {},
      "source": [
        "Let's create a numpy array from the counts and work with it a\n",
        "bit. First we'll take our data from Italy and convert it from the\n",
        "cumulative case counts to the daily case counts."
      ]
    },
    {
      "cell_type": "code",
      "metadata": {},
      "source": [
        "## convert from tuple to array\n",
        "X = np.asarray(Italy)  \n",
        "## get case counts instead of cumulative counts\n",
        "X = X[1 : X.size] - X[0 : (X.size - 1)]"
      ],
      "execution_count": null,
      "outputs": []
    },
    {
      "cell_type": "markdown",
      "metadata": {},
      "source": [
        "Let's get some basic statistical summaries. Note the default is that\n",
        "the standard deviations uses the formula\n",
        "\n",
        "$$\n",
        "\\sqrt{\\frac{1}{N} \\sum_{i=1}^N (X_i - \\bar X)^2}\n",
        "$$\n",
        "\n",
        "rather than\n",
        "\n",
        "$$\n",
        "\\sqrt{\\frac{1}{N-1} \\sum_{i=1}^N (X_i - \\bar X)^2}.\n",
        "$$\n",
        "\n",
        "To get the latter (the unbiased version), set `ddof=1`. Personally, I\n",
        "prefer $N$ as a divisor, though that's a minority opinion. (Between\n",
        "bias or variance of the standard deviation estimate, I'd rather rather\n",
        "have lower variance.) To described the code below:\n",
        "\n",
        "* `X.mean()` gives the mean; since `X` is a numpy object, it has statistical methods defined in the class\n",
        "* `X.std()` gives the (biased version of the) standard deviation\n",
        "* `np.round(A, 2)` rounds the numpy object to two decimal places (useful for printing)\n",
        "* `str` is the python string converter (just to print)"
      ]
    },
    {
      "cell_type": "code",
      "metadata": {},
      "source": [
        "print(\"Mean         : \" + str(np.round(X.mean(), 2))) \n",
        "print(\"Std (biased) : \" + str(np.round(X.std() , 2)))"
      ],
      "execution_count": null,
      "outputs": []
    },
    {
      "cell_type": "markdown",
      "metadata": {},
      "source": [
        "Numpy has a linear algebra library. Let's calculate a distributed lag\n",
        "model using numpy (typically you would use this with regression\n",
        "software). A distributed lag model is of the form:\n",
        "\n",
        "$$\n",
        "Y_t = \\alpha + \\sum_{i=1}^p \\beta_i Y_{t-i} + \\epsilon_i\n",
        "$$\n",
        "\n",
        "First, let's create the lagged matrix considering 3 lags."
      ]
    },
    {
      "cell_type": "code",
      "metadata": {},
      "source": [
        "## Create a matrix of three lagged versions\n",
        "X = np.array([ Italy.shift(1), Italy.shift(2), Italy.shift(3)]).transpose()\n",
        "## Add a vector of ones\n",
        "itc = np.ones( (X.shape[0], 1) )\n",
        "X = np.concatenate( (itc, X), axis = 1)\n",
        "\n",
        "## Visualize the results\n",
        "X[0 : 10,:]"
      ],
      "execution_count": null,
      "outputs": []
    },
    {
      "cell_type": "markdown",
      "metadata": {},
      "source": [
        "Let's get rid of the three NA rows."
      ]
    },
    {
      "cell_type": "code",
      "metadata": {},
      "source": [
        "X = X[ 3 : X.shape[0], :]\n",
        "np.any(np.isnan(X))"
      ],
      "execution_count": null,
      "outputs": []
    },
    {
      "cell_type": "code",
      "metadata": {},
      "source": [
        "## Create the Y vector\n",
        "Y = np.array(Italy[ 3 : Italy.shape[0]])\n",
        "[Y.shape, X.shape]"
      ],
      "execution_count": null,
      "outputs": []
    },
    {
      "cell_type": "markdown",
      "metadata": {},
      "source": [
        "The matrix formula for minimizing the least squares regression model,\n",
        "\n",
        "$$\n",
        "|| Y - X \\beta||^2\n",
        "$$\n",
        "\n",
        "is given by\n",
        "\n",
        "$$\n",
        "\\hat \\beta = (X' X)^{-1} X' Y\n",
        "$$\n",
        "\n",
        "Let's do this in numpy. Let's find the estimated regression\n",
        "coefficients using the formula above. We'll use the following\n",
        "functions\n",
        "\n",
        "* `matmul(A,B)` is the matrix multiplication of `A` and `B`\n",
        "* `A.T` is the transpose of `A`, labeled above as $A'$\n",
        "* `inv(A)` is the matrix inverse of `A`, labeled above as $A^{-1}$ "
      ]
    },
    {
      "cell_type": "code",
      "metadata": {},
      "source": [
        "np.matmul(np.matmul(np.linalg.inv(np.matmul(X.T, X)), X.T), Y)"
      ],
      "execution_count": null,
      "outputs": []
    },
    {
      "cell_type": "markdown",
      "metadata": {},
      "source": [
        "Of course, we don't tend to do things this way. If needed, we'd use\n",
        "lstsq."
      ]
    },
    {
      "cell_type": "code",
      "metadata": {},
      "source": [
        "np.linalg.lstsq(X, Y, rcond = None)[0]"
      ],
      "execution_count": null,
      "outputs": []
    },
    {
      "cell_type": "markdown",
      "metadata": {},
      "source": [
        "Typically, we wouldn't do any of this for this problem, since high\n",
        "level regression models exist already. For example, sklearn's\n",
        "linear_model module)"
      ]
    },
    {
      "cell_type": "code",
      "metadata": {},
      "source": [
        "from sklearn import linear_model\n",
        "\n",
        "model = linear_model.LinearRegression(fit_intercept = False)\n",
        "fit = model.fit(X, Y)\n",
        "fit.coef_"
      ],
      "execution_count": null,
      "outputs": []
    }
  ],
  "metadata": {
    "kernelspec": {
      "name": "python3",
      "language": "python",
      "display_name": "Python 3"
    }
  },
  "nbformat": 4,
  "nbformat_minor": 4
}