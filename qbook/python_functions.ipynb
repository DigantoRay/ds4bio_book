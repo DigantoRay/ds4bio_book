{
  "cells": [
    {
      "cell_type": "markdown",
      "metadata": {},
      "source": [
        "# Functions\n",
        "Writing functions are an important aspect of programming. Writing functions helps automate redundant tasks and create more reusable code. Defining functions in python is easy. Let's write a function that raises a number to a power. (This is unnecessary of course.) Don't forget the colon."
      ]
    },
    {
      "cell_type": "code",
      "metadata": {},
      "source": [
        "def pow(x, n = 2):\n",
        "  return x ** n\n",
        "\n",
        "print(pow(5, 3))"
      ],
      "execution_count": null,
      "outputs": []
    },
    {
      "cell_type": "markdown",
      "metadata": {},
      "source": [
        "Note our function has a mandatory arugment, `x`, and an optional arugment, `n`, that takes the default value 2. Consider this example\n",
        "to think about how python evaluates function arguments. These are all the same."
      ]
    },
    {
      "cell_type": "code",
      "metadata": {},
      "source": [
        "print(pow(3, 2))\n",
        "print(pow(x = 3, n = 2))\n",
        "print(pow(n = 2, x = 3))\n",
        "#pow(n = 2, 3) this returns an error, the second position is n, but it's a named argument too"
      ],
      "execution_count": null,
      "outputs": []
    },
    {
      "cell_type": "markdown",
      "metadata": {},
      "source": [
        "You can look here, [https://docs.python.org/3/tutorial/controlflow.html](https://docs.python.org/3/tutorial/controlflow.html), to study the rules. It doesn't make a lot of sense to get to cute with your function calling arguments. I try to obey both the order and the naming. I argue that this is the way to go since usually functions are written with some sensible ordering of arguments and naming removes all doubt. Python has a special variable for variable length arguments. Here's an example."
      ]
    },
    {
      "cell_type": "code",
      "metadata": {},
      "source": [
        "def concat(*args, sep=\"/\"):\n",
        " return sep.join(args)  \n",
        "\n",
        "print(concat(\"a\", \"b\", \"c\"))\n",
        "print(concat(\"a\", \"b\", \"c\", sep = \":\"))"
      ],
      "execution_count": null,
      "outputs": []
    },
    {
      "cell_type": "markdown",
      "metadata": {},
      "source": [
        "Lambda can be used to create short, unnamed functions. This has a lot of uses that we'll see later. "
      ]
    },
    {
      "cell_type": "code",
      "metadata": {},
      "source": [
        "f = lambda x: x ** 2\n",
        "print(f(5))"
      ],
      "execution_count": null,
      "outputs": []
    },
    {
      "cell_type": "markdown",
      "metadata": {},
      "source": [
        "Here's an example useage where we use lambda to make specific \"raise to the power\" functions."
      ]
    },
    {
      "cell_type": "code",
      "metadata": {},
      "source": [
        "def makepow(n):\n",
        " return lambda x: x ** n\n",
        "\n",
        "square = makepow(2)\n",
        "print(square(3))\n",
        "cube = makepow(3)\n",
        "print(cube(2))"
      ],
      "execution_count": null,
      "outputs": []
    }
  ],
  "metadata": {
    "kernelspec": {
      "name": "python3",
      "language": "python",
      "display_name": "Python 3"
    }
  },
  "nbformat": 4,
  "nbformat_minor": 4
}