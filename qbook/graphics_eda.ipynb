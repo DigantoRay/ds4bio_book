{
  "cells": [
    {
      "cell_type": "markdown",
      "metadata": {},
      "source": [
        "# Exploratory data analysis example\n",
        "\n",
        "In this chapter, we'll talk about EDA (exploratory data analysis)\n",
        "using the python framework seaborn. EDA is the process of using graphs\n",
        "to uncover features in your data often interactively. EDA is hard to\n",
        "quantify, but is touted by most applied data scientists as a crucial\n",
        "component of their craft. EDA is often summarized by the famous\n",
        "sayings\n",
        "\n",
        "*A picture is worth a 1,000 words*\n",
        "\n",
        "Or saying how impactful intrer-ocular content is (i.e. when\n",
        "information hits you right between the eyes).\n",
        "\n",
        "I'm using Seaborn as the framework. There's several plotting\n",
        "frameworks in python, but I find that seaborn has the nicest default\n",
        "plotting options. Also, it's built on top of matplotlib, which is the\n",
        "main plotting library for DS for python.\n",
        "\n",
        "Let's start with loading up some libraries."
      ]
    },
    {
      "cell_type": "code",
      "metadata": {},
      "source": [
        "import numpy as np\n",
        "import pandas as pd\n",
        "import seaborn as sns\n",
        "import matplotlib.pyplot as plt\n",
        "sns.set()"
      ],
      "execution_count": null,
      "outputs": []
    },
    {
      "cell_type": "markdown",
      "metadata": {},
      "source": [
        "The command `sns.set` sets the seaborn style. This sets the style for all matplotlib plots, even\n",
        "if not created in seaborn. I like the seaborn style, so I usually set it this way.\n",
        "\n",
        "First let's download the data. Then we'll read it in and drop some\n",
        "columns that aren't needed for this analysis."
      ]
    },
    {
      "cell_type": "code",
      "metadata": {},
      "source": [
        "df = pd.read_csv(\"https://raw.githubusercontent.com/bcaffo/ds4bme_intro/master/data/kirby21.csv\")\n",
        "df = df.drop(['Unnamed: 0', 'rawid', 'min', 'max', 'mean', 'std'], axis = 1)\n",
        "df.head(4)"
      ],
      "execution_count": null,
      "outputs": []
    },
    {
      "cell_type": "markdown",
      "metadata": {},
      "source": [
        "Let's look at the Type 1 Level 1 data and create a variable called\n",
        "`comp` which is brain composition, defined as the regional volumes\n",
        "over total brain volume. We'll do this by selecting `roi` and comp\n",
        "then grouping by `roi` (region of interest) and taking the mean of the\n",
        "compostions."
      ]
    },
    {
      "cell_type": "code",
      "metadata": {},
      "source": [
        "## Extract the Type 1 Level 1 data\n",
        "t1l1 = df.loc[(df['type'] == 1) & (df['level'] == 1)]"
      ],
      "execution_count": null,
      "outputs": []
    },
    {
      "cell_type": "code",
      "metadata": {},
      "source": [
        "## create a composition variable\n",
        "t1l1 = t1l1.assign(comp = t1l1['volume'] / t1l1['tbv'])\n",
        "t1l1 = t1l1.loc[t1l1['roi'] != 'CSF']"
      ],
      "execution_count": null,
      "outputs": []
    },
    {
      "cell_type": "markdown",
      "metadata": {},
      "source": [
        "Let's get the mean of the composition variable across\n",
        "subjects by ROI. This is done by grouping by ROI then\n",
        "averaging over composition."
      ]
    },
    {
      "cell_type": "code",
      "metadata": {},
      "source": [
        "summary = t1l1[['roi', 'comp']].groupby('roi', as_index=False).mean()\n",
        "print(summary)"
      ],
      "execution_count": null,
      "outputs": []
    },
    {
      "cell_type": "markdown",
      "metadata": {},
      "source": [
        "OK, let's try our first plot, a seaborn bar plot."
      ]
    },
    {
      "cell_type": "code",
      "metadata": {},
      "source": [
        "g = sns.barplot(x='roi', y = 'comp', data = summary);\n",
        "## this is the matplotlib command for rotating \n",
        "## axis tick labels by 90 degrees.\n",
        "plt.xticks(rotation = 90);"
      ],
      "execution_count": null,
      "outputs": []
    },
    {
      "cell_type": "markdown",
      "metadata": {},
      "source": [
        "Unfortunately, seaborn doesn't have a stakced bar chart. However,\n",
        "pandas does have one built in. To do this, however, we have to create\n",
        "a version of the data with ROIs as the columns. This can be done with a\n",
        "pivot statement. This converts our data from a \"long\" format to a \"wide\"\n",
        "format. "
      ]
    },
    {
      "cell_type": "code",
      "metadata": {},
      "source": [
        "t1l1pivot = t1l1.pivot(index = 'id', columns = 'roi', values = 'volume')\n",
        "t1l1pivot.head(4)"
      ],
      "execution_count": null,
      "outputs": []
    },
    {
      "cell_type": "markdown",
      "metadata": {},
      "source": [
        "Now that the data is in the right format, we can do our plot."
      ]
    },
    {
      "cell_type": "code",
      "metadata": {},
      "source": [
        "t1l1pivot.plot(kind='bar', stacked=True, legend= False);\n",
        "plt.legend(loc='center left', bbox_to_anchor=(1.0, 0.5));"
      ],
      "execution_count": null,
      "outputs": []
    },
    {
      "cell_type": "markdown",
      "metadata": {},
      "source": [
        "Let's do some scatterplots. Let's look at bilateral symmetry of the telencephalon. \n",
        "That is, let's plot the right telencephalon versus the left telencephalon."
      ]
    },
    {
      "cell_type": "code",
      "metadata": {},
      "source": [
        "sns.scatterplot(x = 'Telencephalon_L', y = 'Telencephalon_R', data = t1l1pivot);\n",
        "plt.xticks(rotation = 90);\n",
        "#plot an identity line from the data min to the data max\n",
        "x1 = min([t1l1pivot.Telencephalon_L.min(), t1l1pivot.Telencephalon_R.min()])\n",
        "x2 = max([t1l1pivot.Telencephalon_L.max(), t1l1pivot.Telencephalon_R.max()])\n",
        "plt.plot([x1, x2], [x1 , x2]);"
      ],
      "execution_count": null,
      "outputs": []
    },
    {
      "cell_type": "markdown",
      "metadata": {},
      "source": [
        "This plot has the issue that there's a lot of blank space. This is\n",
        "often addressed via a mean difference plot. This plot shows (X+Y) / 2\n",
        "versus (X-y). This is basically just rotating the plot above by 45\n",
        "degrees to get rid of all of the blank space around the diagonal\n",
        "line. Alternatively, you could plot (log(x) + log(y)) / 2 versus\n",
        "log(X) - log(Y). This plots the log of the geometric mean of the two\n",
        "observations versus the log of their ratio. Sometimes people use log\n",
        "base 2 or log base 10."
      ]
    },
    {
      "cell_type": "code",
      "metadata": {},
      "source": [
        "t1l1pivot = t1l1pivot.assign(Tel_logmean = lambda x: (np.log(x.Telencephalon_L) * .5 +  np.log(x.Telencephalon_R)* .5))\n",
        "t1l1pivot = t1l1pivot.assign(Tel_logdiff = lambda x: (np.log(x.Telencephalon_R) -  np.log(x.Telencephalon_L)))\n",
        "sns.scatterplot(x = 'Tel_logmean', y = 'Tel_logdiff', data = t1l1pivot);\n",
        "plt.axhline(0, color='green');\n",
        "plt.xticks(rotation = 90);"
      ],
      "execution_count": null,
      "outputs": []
    },
    {
      "cell_type": "markdown",
      "metadata": {},
      "source": [
        "Thus, apparently, the *right* side is always a little bigger than the\n",
        "*left* and the scale of the ratio is $e^{0.02}$ while the scale of the\n",
        "geometric mean is $e^{13}$. Note, $\\exp(x) \\approx 1 + x$ for $x\n",
        "\\approx 0$. So it's about 2% larger. A note about right versus left in\n",
        "imaging. Often the labels get switched as there are different\n",
        "conventions (is it the right of the subject or the right of the viewer\n",
        "when looking straight at the subject?). Typically, it's known that\n",
        "some of the areas of subject's left hemisphere are larger and so it's\n",
        "probably radiological (right of the viewer) convention\n",
        "here. [Here's](https://www.dana.org/uploadedFiles/BAW/Brain_Brief_Right_Brain-Left_Brain_Final.pdf)\n",
        "a nicely done article about right versus left brain.\n",
        "\n",
        "(Also, in case you don't believe me, here's a plot of $e^x$ versus\n",
        "$1+x$ for values up to 0.1. This is the so-called Taylor expasion\n",
        "for $e^x$ around 0. Notice the approximation gets worse, the curves diverge,\n",
        "as you get further away from 0.)"
      ]
    },
    {
      "cell_type": "code",
      "metadata": {},
      "source": [
        "## A sequence of numbers from 0 to .1 spaced by 0.001\n",
        "x = np.arange(0, .1, .001)\n",
        "ex = np.exp(x)\n",
        "\n",
        "sns.lineplot(x = x, y = ex)\n",
        "plt.plot(x, x + 1)"
      ],
      "execution_count": null,
      "outputs": []
    }
  ],
  "metadata": {
    "kernelspec": {
      "name": "python3",
      "language": "python",
      "display_name": "Python 3"
    }
  },
  "nbformat": 4,
  "nbformat_minor": 4
}