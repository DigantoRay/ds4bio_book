{
  "cells": [
    {
      "cell_type": "markdown",
      "metadata": {},
      "source": [
        "# Interactive graphics\n",
        "\n",
        "Javascript graphics allows one to put data oriented graphics into web\n",
        "documents (like this book), apps and other reproducible research\n",
        "documents. As mentioned, several well developed APIs have been\n",
        "developed to use Python, R ... as the base language where graphics are\n",
        "output as javascript. Here, we'll go through some examples using\n",
        "[plotly](https://plotly.com/), both because it's a nice library of\n",
        "graphics functions, but also it's what I know sort of well. However,\n",
        "if there's another graphics platform you like, likely there's a python\n",
        "and/or R API written for it.\n",
        "\n",
        "## Using plotly\n",
        "Consider a dataset that has regional volumes for 20 subjects in a long\n",
        "dataset. I wrote some R code for reading in this dataset which you can\n",
        "follow along\n",
        "[here](https://github.com/bcaffo/MRIcloudTutorial/blob/gh-pages/ggplot/ggplot.Rmd)."
      ]
    },
    {
      "cell_type": "code",
      "metadata": {},
      "source": [
        "import pandas as pd\n",
        "import plotly.express as px\n",
        "import numpy as np"
      ],
      "execution_count": null,
      "outputs": []
    },
    {
      "cell_type": "code",
      "metadata": {},
      "source": [
        "dat = pd.read_csv(\"assets/kirby21.csv\").drop(['Unnamed: 0'], axis = 1)\n",
        "dat.head()"
      ],
      "execution_count": null,
      "outputs": []
    },
    {
      "cell_type": "markdown",
      "metadata": {},
      "source": [
        "Let's vew individual subjects. The id variable is a numeric variable, so let's create a string version."
      ]
    },
    {
      "cell_type": "code",
      "metadata": {},
      "source": [
        "dat = dat.assign(id_char = dat.id.astype(str))\n",
        "fig = px.bar(dat, x = \"id_char\", y = \"volume\", color = \"roi\")\n",
        "fig.show()"
      ],
      "execution_count": null,
      "outputs": []
    },
    {
      "cell_type": "markdown",
      "metadata": {},
      "source": [
        "Let's add an intra-cranial volume column by grouping by id, summing\n",
        "all volumes, then merging that data back into the main data. We'll\n",
        "then add a composition variable, which is the regional volumes divided\n",
        "by the intra-cranial volume."
      ]
    },
    {
      "cell_type": "code",
      "metadata": {},
      "source": [
        "icv = dat.groupby(['id']).volume.sum().reset_index().rename(columns = {'volume' : 'icv'})\n",
        "dat = pd.merge(dat, icv, on = 'id')\n",
        "dat = dat.assign(comp = dat.volume / dat.icv)\n",
        "dat.head()"
      ],
      "execution_count": null,
      "outputs": []
    },
    {
      "cell_type": "markdown",
      "metadata": {},
      "source": [
        "Let's now replot our compositional data (but now normalized to have height 1)."
      ]
    },
    {
      "cell_type": "code",
      "metadata": {},
      "source": [
        "fig = px.bar(dat, x = \"id_char\", y = \"comp\", color = \"roi\")\n",
        "fig.show()"
      ],
      "execution_count": null,
      "outputs": []
    },
    {
      "cell_type": "markdown",
      "metadata": {},
      "source": [
        "Let's look at the subject level means. Therefore, we have to average across id."
      ]
    },
    {
      "cell_type": "code",
      "metadata": {},
      "source": [
        "roi_mean = dat.drop([\"id\", \"id_char\", \"icv\"], axis = 1).groupby([\"roi\"]).mean().reset_index()\n",
        "fig = px.bar(roi_mean, x = \"roi\", y = \"comp\")\n",
        "fig.show()"
      ],
      "execution_count": null,
      "outputs": []
    },
    {
      "cell_type": "markdown",
      "metadata": {},
      "source": [
        "There's a hierarchy of regions in this dataset. Let's visualize a\n",
        "subject's type 1 level 5 data as it exists in the hierarchy.\n",
        "First, let's load in the hierarchy information:\n"
      ]
    },
    {
      "cell_type": "code",
      "metadata": {},
      "source": [
        "url = \"https://raw.githubusercontent.com/bcaffo/MRIcloudT1volumetrics/master/inst/extdata/multilevel_lookup_table.txt\"\n",
        "multilevel_lookup = pd.read_csv(url, sep = \"\\t\").drop(['Level5'], axis = 1)\n",
        "multilevel_lookup = multilevel_lookup.rename(columns = {\n",
        "    \"modify\"   : \"roi\", \n",
        "    \"modify.1\" : \"level4\",\n",
        "    \"modify.2\" : \"level3\", \n",
        "    \"modify.3\" : \"level2\",\n",
        "    \"modify.4\" : \"level1\"})\n",
        "multilevel_lookup = multilevel_lookup[['roi', 'level4', 'level3', 'level2', 'level1']]\n",
        "multilevel_lookup.head()"
      ],
      "execution_count": null,
      "outputs": []
    },
    {
      "cell_type": "markdown",
      "metadata": {},
      "source": [
        "Now load in the subject data and merge it with the hierarchy data."
      ]
    },
    {
      "cell_type": "code",
      "metadata": {},
      "source": [
        "id = 127\n",
        "subjectData = pd.read_csv(\"assets/kirby21AllLevels.csv\")\n",
        "subjectData = subjectData.loc[(subjectData.type == 1) & (subjectData.level == 5) & (subjectData.id == id)]\n",
        "subjectData = subjectData[['roi', 'volume']]\n",
        "## Merge the subject data with the multilevel data\n",
        "subjectData = pd.merge(subjectData, multilevel_lookup, on = \"roi\")\n",
        "subjectData = subjectData.assign(icv = \"ICV\")\n",
        "subjectData = subjectData.assign(comp = subjectData.volume / np.sum(subjectData.volume))\n",
        "subjectData.head()"
      ],
      "execution_count": null,
      "outputs": []
    },
    {
      "cell_type": "markdown",
      "metadata": {},
      "source": [
        "Here's a sunburst plot of a subject's brain volumetrics."
      ]
    },
    {
      "cell_type": "code",
      "metadata": {},
      "source": [
        "fig = px.sunburst(subjectData, path=['icv', 'level1', 'level2', 'level3', 'level4', 'roi'], \n",
        "                  values='comp', width=800, height=800)\n",
        "fig.show()"
      ],
      "execution_count": null,
      "outputs": []
    },
    {
      "cell_type": "markdown",
      "metadata": {},
      "source": [
        "Similarly, we can make a treemap."
      ]
    },
    {
      "cell_type": "code",
      "metadata": {},
      "source": [
        "fig = px.treemap(subjectData, \n",
        "                 path = ['icv', 'level1', 'level2', 'level3', 'level4', 'roi'], \n",
        "                 values='comp',\n",
        "                 color='comp', \n",
        "                 color_continuous_scale = 'RdBu',\n",
        "                 color_continuous_midpoint = .005,\n",
        "                 width=800, height=800\n",
        "                )\n",
        "fig.show()"
      ],
      "execution_count": null,
      "outputs": []
    },
    {
      "cell_type": "markdown",
      "metadata": {},
      "source": [
        "## Interactive maps using folium and leaflet\n",
        "\n",
        "A common form of interactive graphic is a map. There are several\n",
        "mapping libraries for python, including some in plotly. folium is\n",
        "another option that connects to the well known leaflet javascript\n",
        "library. Let's create a quick plot of the Bloomberg School of Public\n",
        "Health Building, which is at latitude and longitude 39.298,\n",
        "-76.590. If you haven't already, pip or conda install folium."
      ]
    },
    {
      "cell_type": "code",
      "metadata": {},
      "source": [
        "import folium \n",
        "\n",
        "m = folium.Map(location = [39.298, -76.590], zoom_start = 15)\n",
        "m"
      ],
      "execution_count": null,
      "outputs": []
    },
    {
      "cell_type": "markdown",
      "metadata": {},
      "source": [
        "You can then add elements to the map. For example, suppose we want a\n",
        "marker on the building saying \"my office\". It's just that easy! This\n",
        "is truly just the tip of the iceberg of using folium/leaflet."
      ]
    },
    {
      "cell_type": "code",
      "metadata": {},
      "source": [
        "folium.Marker([39.298, -76.590], popup = \"What it says when you click\",  tooltip = \"What it says when you hover\").add_to(m)\n",
        "m"
      ],
      "execution_count": null,
      "outputs": []
    }
  ],
  "metadata": {
    "kernelspec": {
      "name": "python3",
      "language": "python",
      "display_name": "Python 3"
    }
  },
  "nbformat": 4,
  "nbformat_minor": 4
}