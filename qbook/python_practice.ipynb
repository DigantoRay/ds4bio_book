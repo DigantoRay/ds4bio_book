{
  "cells": [
    {
      "cell_type": "markdown",
      "metadata": {},
      "source": [
        "# Python in practice\n",
        "\n",
        "The kind of programming we've seen so far in python isn't how typical\n",
        "data programmming in python goes. Instead, we tend to rely a lot of\n",
        "modules that add methods to our complex data science objects. Most\n",
        "python objects are class objects that come with a variety of\n",
        "convenient methods associated with them. If you're working in a good\n",
        "coding environment, then it should have some method autocompletion for\n",
        "your objects, which helps prevent typos and can speed up work. Let's\n",
        "look at methods associated with a list object. Note that some methods\n",
        "change the object itself while others return things without changing\n",
        "the object."
      ]
    },
    {
      "cell_type": "code",
      "metadata": {},
      "source": [
        "pets = ['frogs', 'cats', 'dogs', 'hamsters']\n",
        "print(pets)\n",
        "pets.sort() #note this changes the pets object\n",
        "print(pets)\n",
        "pets.reverse()\n",
        "print(pets)\n",
        "pets.pop()\n",
        "print(pets)\n",
        "pets.append(\"horses\")\n",
        "print(pets)\n",
        "print(pets.count(\"horses\")) #counts the number of times the string horses is in the list"
      ],
      "execution_count": null,
      "outputs": []
    },
    {
      "cell_type": "markdown",
      "metadata": {},
      "source": [
        "A useful working example is working with imaginary numbers.\n",
        "\n",
        "Let's create our own version of a complex number, adapted from\n",
        "[here](https://docs.python.org/3/tutorial/classes.html). Complex\n",
        "numbers have two parts, the real part and the \"imaginary\" part.  (Note\n",
        "I put imaginary in quotes, since, IMHO, complex numbers and the\n",
        "associated operations are simply an algebraic system, no more or less\n",
        "imaginary than most other algebraic systems. They simply lack the\n",
        "direct real world counting analogy of squaring a whole number. But\n",
        "there are countless algenbraic systems created for a variety of uses,\n",
        "most lacking the direct analogy to counting whole numbers.)  There's\n",
        "two popular representations of complex numbers, Cartesian and\n",
        "polar. We'll use Cartesian and not discuss polar.\n",
        "\n",
        "A complex number is represented as $a + bi$ where $a$ and $b$ are\n",
        "numbers and $i$ is the symbol for the complex root of -1, i.e. $i^2 =\n",
        "-1$. If $a + b i $ is a complex number, $a - bi$ is its so-called\n",
        "conjugate. Conjugates are useful since $$ (a+bi)(a-bi) = a^2 + abi -\n",
        "abi - b^2 i^2 = a^2 + b^2 $$\n",
        "\n",
        "Let's create an object called `mycomplex` and give it a conjugation method and some other stuff."
      ]
    },
    {
      "cell_type": "code",
      "metadata": {},
      "source": [
        "class mycomplex:\n",
        "    def __init__(self, real, imag):\n",
        "        self.r = real\n",
        "        self.i = imag\n",
        "\n",
        "    def conjugate(self): #note this modifies self\n",
        "        self.i =  -self.i\n",
        "\n",
        "    def print(self):\n",
        "        print((self.r, self.i))\n",
        "\n",
        "y = mycomplex(10,5)\n",
        "y.print()\n",
        "y.conjugate()\n",
        "y.print()"
      ],
      "execution_count": null,
      "outputs": []
    },
    {
      "cell_type": "markdown",
      "metadata": {},
      "source": [
        "Let's now create a version that doesn't modify the object when we conjugate. "
      ]
    },
    {
      "cell_type": "code",
      "metadata": {},
      "source": [
        "class mycomplex:\n",
        "    def __init__(self, real, imag):\n",
        "        self.r = real\n",
        "        self.i = imag\n",
        "\n",
        "    def conjugate(self): # note this doesn't modify self and returns a new object\n",
        "        return(mycomplex(self.r, -self.i))\n",
        "\n",
        "    def print(self):\n",
        "        print((self.r, self.i))\n",
        "\n",
        "y = mycomplex(10,5)\n",
        "y.print()\n",
        "z = y.conjugate()\n",
        "y.print()\n",
        "z.print()"
      ],
      "execution_count": null,
      "outputs": []
    },
    {
      "cell_type": "markdown",
      "metadata": {},
      "source": [
        "## Example utilizing python libraries, numpy\n",
        "\n",
        "We typically load libraries that create useful data structures for us\n",
        "and have useful functions. We'll use `pandas` a lot next. So, let's go\n",
        "through another very useful data science library, `numpy`.\n",
        "\n",
        "First, let's load up numpy. Here's three separate ways\n",
        "\n",
        "1. `import numpy`\n",
        "2. `import numpy as np`\n",
        "3. `from numpy import *`\n",
        "\n",
        "Option 1. imports numpy, but then you have to type `numpy.FUNCTION` to\n",
        "access `FUNCTION`. The second option (my preferred) shortens this to\n",
        "`np.FUNCTION`. The third loads the numpy functions into the global\n",
        "namespace. This is probably ok for really core packages like\n",
        "numpy. But, otherwise it's an issue since you typically load many\n",
        "libraries and some may have the same function names.\n",
        "\n",
        "Let's load up numpy and look at some of its capabilities."
      ]
    },
    {
      "cell_type": "code",
      "metadata": {},
      "source": [
        "import numpy as np\n",
        "\n",
        "## Numpy has constants\n",
        "print(np.pi)\n",
        "## Numpy has a not a number placeholder\n",
        "print(np.nan)\n",
        "## Numpy has 1 and 2d arrays\n",
        "vector = np.array([1, 2, 3, 8])\n",
        "print(vector)\n",
        "print(type(vector))\n",
        "## Numpy has N-Dimensional arrays\n",
        "array = np.array([ [1, 2, 3], [4, 5, 6]])\n",
        "print(array)"
      ],
      "execution_count": null,
      "outputs": []
    },
    {
      "cell_type": "code",
      "metadata": {},
      "source": [
        "## Arrays have operator definitions\n",
        "print(array + array)\n",
        "print(array * array)"
      ],
      "execution_count": null,
      "outputs": []
    },
    {
      "cell_type": "markdown",
      "metadata": {},
      "source": [
        "Let's look at a common use of a library object. Our vector, `vector`,\n",
        "has some data in it. What if we wanted the mean and standard\n",
        "deviation?"
      ]
    },
    {
      "cell_type": "code",
      "metadata": {},
      "source": [
        "print(vector.mean())\n",
        "print(vector.std())"
      ],
      "execution_count": null,
      "outputs": []
    },
    {
      "cell_type": "markdown",
      "metadata": {},
      "source": [
        "Numpy has a separate data structure for matrices (2D arrays). Let's\n",
        "creat a matrix like our previous 2D array."
      ]
    },
    {
      "cell_type": "code",
      "metadata": {},
      "source": [
        "mymat = np.matrix([ [1, 2], [4, 5] ] )\n",
        "print( (type(array), type(mymat) ) )\n",
        "mymat"
      ],
      "execution_count": null,
      "outputs": []
    },
    {
      "cell_type": "markdown",
      "metadata": {},
      "source": [
        "Numpy's linear algebra functions are spread across sublibraries of\n",
        "numpy. `linalg` is one. Let's suppose we want the matrix determinant\n",
        "of `mymat`. We have several choices\n",
        "\n",
        "1. `np.linalg.det(mymat)`\n",
        "2. `import numpy.linalg as la` then `la.det(mymat)`\n",
        "3. `from numpy.linalg import det` then `det(mymat)`\n",
        "\n",
        "The first is a little long, but just calls the sublibrary then the\n",
        "function of the sublibrary. The second and third are shorter, where\n",
        "the second gives a named reference to the sublibrary methods while the\n",
        "third loads the function into the namespace."
      ]
    },
    {
      "cell_type": "code",
      "metadata": {},
      "source": [
        "from numpy.linalg import det \n",
        "det(mymat)"
      ],
      "execution_count": null,
      "outputs": []
    },
    {
      "cell_type": "code",
      "metadata": {},
      "source": [
        "x = np.array([1.1, 2.1, 3.1, 3.2, 8.6])\n",
        "x[1:3]"
      ],
      "execution_count": null,
      "outputs": []
    },
    {
      "cell_type": "markdown",
      "metadata": {},
      "source": [
        "## Building python modules\n",
        "\n",
        "With very small effort, a set of python functions can be turned into a\n",
        "python library. Let's start with creating a python module, then we'll\n",
        "talk about distributing with pip\n"
      ]
    }
  ],
  "metadata": {
    "kernelspec": {
      "name": "python3",
      "language": "python",
      "display_name": "Python 3"
    }
  },
  "nbformat": 4,
  "nbformat_minor": 4
}