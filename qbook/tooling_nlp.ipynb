{
  "cells": [
    {
      "cell_type": "raw",
      "metadata": {},
      "source": [
        "---\n",
        "title: \"NLP\"\n",
        "format: html\n",
        "---"
      ]
    },
    {
      "cell_type": "markdown",
      "metadata": {},
      "source": [
        "## On text encoding\n",
        "\n",
        "Computers represent characters via character encodings. Basically, a\n",
        "mapping from a binary representation to a character symbol\n",
        "value. There's many character encodings and most often our text system\n",
        "autodetects them.\n",
        "\n",
        "Character encodings existed a long time before computers, since people\n",
        "seem to always want to represent letters as numbers. On a computer,\n",
        "the program has to interpret the character code and display it in a\n",
        "way that we want. ASCII represents characters as 7 bits, (unicode)\n",
        "UTF-8, UTF-16 and UTF-32 represent characters as 8, 16, and 32\n",
        "bits. Of course the greater the bit representation, the larger the\n",
        "character set that can be represented. ASCII contains only the usual\n",
        "keyboard characters whereas Unicode contains much more.\n",
        "\n",
        "[Here's](https://docs.python.org/3/howto/unicode.html#the-unicode-type)\n",
        "some info about python unicode. For example, python's default\n",
        "character encoding is UTF-8. So strings automatically allow UTF-8\n",
        "characters"
      ]
    },
    {
      "cell_type": "code",
      "metadata": {},
      "source": [
        "print(\"😉\")\n",
        "print(\"\\N{WINKING FACE}\")\n",
        "print(\"\\U0001F609\")"
      ],
      "execution_count": null,
      "outputs": []
    },
    {
      "cell_type": "markdown",
      "metadata": {},
      "source": [
        "Unicode characters can be variable names, but emojis can't.  (However,\n",
        "see\n",
        "[here](https://betterprogramming.pub/emojis-as-python-variables-sure-why-not-96ce955dada1)\n",
        "where they magically do `import pandas as 🐼`). Greek letters are fair\n",
        "game."
      ]
    },
    {
      "cell_type": "code",
      "metadata": {},
      "source": [
        "import numpy as np\n",
        "\n",
        "x = np.array([1, 5, 8, 10, 2, 4])\n",
        "μ = x.mean()\n",
        "σ = x.std()\n",
        "print( (μ, σ) )"
      ],
      "execution_count": null,
      "outputs": []
    },
    {
      "cell_type": "markdown",
      "metadata": {},
      "source": [
        "This is annoying for programming. But, useful for labeling plot axes and whatnot.\n",
        "\n",
        "## Regular expressions\n",
        "\n",
        "Regular expressions (regexes) are simply advanced pattern matching\n",
        "tools. Regular expressions represent regular characters, a, b, ..., z,\n",
        "A, B, ..., Z exactly like you'd think. But, some other characters, .,\n",
        "+, and others are metacharacters that are used to help us match\n",
        "things. A backslash, \\, can be used to directly reference a\n",
        "metacharacter, so \"\\\\+\", references the character \"+\". It can also be\n",
        "used to escape a regular character. So \"\\\\d\" references the set of\n",
        "digits rather than the character `d`.\n",
        "\n",
        "Honestly, I have to look up regex definitions everytime I use\n",
        "them. [Here's](https://en.wikipedia.org/wiki/Regular_expression) a\n",
        "table from wikipedia\n",
        "reduced. [Here's](https://docs.python.org/3/library/re.html) the\n",
        "python regex docs.\n",
        "\n",
        "| Metacharacter\t| Description |\n",
        "|---|---|\n",
        "| ^\t    | Matches the starting position within the string.| \n",
        "| .\t    | Matches any single character. |\n",
        "| [ ]\t| Matches a single character that is contained within the brackets. |\n",
        "| [^ ]\t| Matches a single character that is not contained within the brackets.|\n",
        "| $    \t| Matches the ending position of the string or the position just before a string-ending newline.|\n",
        "| ( )   | Defines a marked subexpression.|\n",
        "| \\n    | Matches what the nth marked subexpression matched, where n is a digit from 1 to 9 |\n",
        "| *\t    | Matches the preceding element zero or more times.|\n",
        "| {m,n}\t| Matches the preceding element at least m and not more than n times.|\n",
        "\n",
        "Many search functions in R and python allow for regexes. Especially,\n",
        "the `re` python module. Try these simple examples and look at the\n",
        "methods associated with the output. It contains methods for where the\n",
        "regex occurs in the string, the whole input string itself etc. It\n",
        "returns nil if there's no match."
      ]
    },
    {
      "cell_type": "code",
      "metadata": {},
      "source": [
        "import re\n",
        "out = re.search('[hcb]a', 'hat')\n",
        "print( (out.group(0), out.string) )\n",
        "out = re.search('[hcb]a', 'phat')\n",
        "print( (out.group(0), out.string) )\n",
        "out = re.search('[hcb]a', 'rat')\n",
        "print(out)"
      ],
      "execution_count": null,
      "outputs": []
    },
    {
      "cell_type": "code",
      "metadata": {},
      "source": [
        "out = re.findall('[hcb]a', 'hatcathat')\n",
        "print(out)"
      ],
      "execution_count": null,
      "outputs": []
    },
    {
      "cell_type": "markdown",
      "metadata": {},
      "source": [
        "We can match any letter with \".\". "
      ]
    },
    {
      "cell_type": "code",
      "metadata": {},
      "source": [
        "out = re.search('.a', 'rat')\n",
        "print( (out.group(0), out.string) )\n",
        "out = re.search('.a', 'phat')\n",
        "print( (out.group(0), out.string) )"
      ],
      "execution_count": null,
      "outputs": []
    },
    {
      "cell_type": "markdown",
      "metadata": {},
      "source": [
        "We can search for things like any number using a dash."
      ]
    },
    {
      "cell_type": "code",
      "metadata": {},
      "source": [
        "out = re.search('subject[0-9].txt', 'subject3.txt')\n",
        "print( (out.group(0), out.string) )\n",
        "out = re.search('subject[0-9][0-9][0-9].txt', 'subject015.txt')\n",
        "print( (out.group(0), out.string) )"
      ],
      "execution_count": null,
      "outputs": []
    },
    {
      "cell_type": "markdown",
      "metadata": {},
      "source": [
        "'CHARACTER*' will match any number of the character, inncluding 0,\n",
        "whereas `CHAR+` matches one or more times."
      ]
    },
    {
      "cell_type": "code",
      "metadata": {},
      "source": [
        "out = re.search('subject0*.txt', 'subject.txt')\n",
        "print( (out.group(0), out.string) )\n",
        "out = re.search('subject0*.txt', 'subject000.txt')\n",
        "print( (out.group(0), out.string) )\n",
        "out = re.search('subject0*.txt', 'subject123.txt')\n",
        "print(out)\n",
        "out = re.search('subject0+.txt', 'subject.txt')\n",
        "print(out)\n",
        "out = re.search('subject0+.txt', 'subject000.txt')\n",
        "print( (out.group(0), out.string) )\n",
        "out = re.search('subject0+.txt', 'subject123.txt')\n",
        "print(out)"
      ],
      "execution_count": null,
      "outputs": []
    },
    {
      "cell_type": "markdown",
      "metadata": {},
      "source": [
        "`CHARACTER?` matches one or zero times."
      ]
    },
    {
      "cell_type": "code",
      "metadata": {},
      "source": [
        "out = re.search('subject0?.txt', 'subject.txt')\n",
        "print( (out.group(0), out.string) )\n",
        "out = re.search('subject0?.txt', 'subject0.txt')\n",
        "print( (out.group(0), out.string) )\n",
        "out = re.search('subject0?.txt', 'subject00.txt')\n",
        "print(out)"
      ],
      "execution_count": null,
      "outputs": []
    },
    {
      "cell_type": "markdown",
      "metadata": {},
      "source": [
        "You can string together regexes to obtain more complex searches. For example, the following searches for `subject[GREATER THAN ONE NUMBER].txt`"
      ]
    },
    {
      "cell_type": "code",
      "metadata": {},
      "source": [
        "out = re.search('[0-9]+.txt', 'subject501.txt')\n",
        "print( (out.group(0), out.string) )"
      ],
      "execution_count": null,
      "outputs": []
    },
    {
      "cell_type": "markdown",
      "metadata": {},
      "source": [
        "Python's `re` library has several other methods than search including:\n",
        "`match`, `findall()`, `finditer()` (see [here]()).\n",
        "\n",
        "That's enough regexes. My typical workflow for regexes is to simply\n",
        "relearn them every time I need them, since I don't use them enough to\n",
        "get terribly fluent.\n",
        "\n",
        "## Natural language tool kit\n",
        "\n",
        "nltk is probably the most widely used natural language toolkit.\n",
        "To install nltk, just use conda or pip. However, I also had to run `nltk.download()` to download the extra stuff required for the package to run. I found [this](https://realpython.com/nltk-nlp-python/) tutorial helpful."
      ]
    },
    {
      "cell_type": "code",
      "metadata": {},
      "source": [
        "import nltk"
      ],
      "execution_count": null,
      "outputs": []
    },
    {
      "cell_type": "markdown",
      "metadata": {},
      "source": [
        "Tokenizing words and sentences. Consider this history and physical exam note from [here](https://www.med.unc.edu/medclerk/education/grading/history-and-physical-examination-h-p-examples/). \n"
      ]
    },
    {
      "cell_type": "code",
      "metadata": {},
      "source": [
        "note = \"\"\"HPI is a 76 yo man with h/o HTN, DM, and sleep apnea who presented to the ED complaining of chest pain. He states that the pain began the day before and consisted of a sharp pain that lasted around 30 seconds, followed by a dull pain that would last around 2 minutes. The pain was located over his left chest area somewhat near his shoulder. The onset of pain came while the patient was walking in his home. He did not sit and rest during the pain, but continued to do household chores. Later on in the afternoon he went to the gym where he walked 1 mile on the treadmill, rode the bike for 5 minutes, and swam in the pool. After returning from the gym he did some work out in the yard, cutting back some vines. He did not have any reoccurrences of chest pain while at the gym or later in the evening. The following morning (of his presentation to the ED) he noticed the pain as he was getting out of bed. Once again it was a dull pain, preceded by a short interval of a sharp pain. The patient did experience some tingling in his right arm after the pain ceased. He continued to have several episodes of the pain throughout the morning, so his daughter-in-law decided to take him to the ED around 12:30pm. The painful episodes did not increase in intensity or severity during this time. At the ED the patient was given nitroglycerin, which he claims helped alleviate the pain somewhat. HPI has not experienced any shortness of breath, nausea, or diaphoresis during these episodes of pain. He has never had chest pain in the past. He has been told “years ago” that he has a right bundle branch block and premature heart beats.\"\"\""
      ],
      "execution_count": null,
      "outputs": []
    },
    {
      "cell_type": "markdown",
      "metadata": {},
      "source": [
        "Let's tokenize this note by sentence and word."
      ]
    },
    {
      "cell_type": "code",
      "metadata": {},
      "source": [
        "sentences = nltk.tokenize.sent_tokenize(note)\n",
        "words = nltk.tokenize.word_tokenize(note)\n",
        "for i in range(3):\n",
        "    print(sentences[i])\n",
        "print(words)"
      ],
      "execution_count": null,
      "outputs": []
    },
    {
      "cell_type": "markdown",
      "metadata": {},
      "source": [
        "Let's filter out some common English filler words."
      ]
    },
    {
      "cell_type": "code",
      "metadata": {},
      "source": [
        "filter_words = set(nltk.corpus.stopwords.words(\"english\"))\n",
        "filtered = [w for w in words if w in filter_words]\n",
        "print(filtered[0 : 10])"
      ],
      "execution_count": null,
      "outputs": []
    },
    {
      "cell_type": "markdown",
      "metadata": {},
      "source": [
        "We can also reduce words to their stems, i.e. grammatical root form."
      ]
    },
    {
      "cell_type": "code",
      "metadata": {},
      "source": [
        "stemmer = nltk.stem.PorterStemmer().stem\n",
        "print(stemmer(\"Diagnosed\"))\n",
        "print(stemmer(\"Diagnosing\"))\n",
        "print(stemmer(\"diagnosed\"))"
      ],
      "execution_count": null,
      "outputs": []
    },
    {
      "cell_type": "markdown",
      "metadata": {},
      "source": [
        "Lemmatization reduces words to an underlying meaing."
      ]
    },
    {
      "cell_type": "code",
      "metadata": {},
      "source": [
        "from nltk.stem import WordNetLemmatizer\n",
        "lemmatize = WordNetLemmatizer().lemmatize\n",
        "## Here v for verb\n",
        "print(lemmatize(\"am\", pos = \"v\"))\n",
        "print(lemmatize(\"are\", pos = \"v\"))\n",
        "print(lemmatize(\"worst\", pos = \"n\"))\n",
        "print(lemmatize(\"worst\", pos = \"a\"))"
      ],
      "execution_count": null,
      "outputs": []
    },
    {
      "cell_type": "markdown",
      "metadata": {},
      "source": [
        "## Sentiment\n",
        "\n",
        "Sentiment is predicting a score about the tone of a text. The compound value is a numeric sentiment score.  "
      ]
    },
    {
      "cell_type": "code",
      "metadata": {},
      "source": [
        "from nltk.sentiment import SentimentIntensityAnalyzer\n",
        "sentiment = SentimentIntensityAnalyzer().polarity_scores\n",
        "print(sentiment(note))\n",
        "print(sentiment(\"Sentiment analysis is great!\"))\n",
        "print(sentiment(\"The world is doomed.\"))"
      ],
      "execution_count": null,
      "outputs": []
    }
  ],
  "metadata": {
    "kernelspec": {
      "name": "python3",
      "language": "python",
      "display_name": "Python 3"
    }
  },
  "nbformat": 4,
  "nbformat_minor": 4
}