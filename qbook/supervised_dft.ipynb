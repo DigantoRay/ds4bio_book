{
  "cells": [
    {
      "cell_type": "markdown",
      "metadata": {},
      "source": [
        "# DFT\n",
        "## Abstract notations\n",
        "### History\n",
        "The Fourier transform is one of the key tools in Biomedical Data\n",
        "Science. Its namesake is [Jean Baptiste\n",
        "Fourier](https://en.wikipedia.org/wiki/Joseph_Fourier), who was a 18th\n",
        "century French mathemetician who made fundamental discoveries into\n",
        "harmonic analysis. Its fair to say that Fourier's discoveries are some\n",
        "of the most fundamental in all of a mathematics and engineering and is\n",
        "the foundation for signal processing.\n",
        "\n",
        "One of his main discoveries was the Fourier series, the idea that a\n",
        "function can be decomposed into building blocks of trigonometric\n",
        "functions.\n",
        "\n",
        "### Some notation\n",
        "Let $<,>$ be a so-called inner product. For example $<a, b> =\n",
        "\\sum_{m=1}^n a_m b_m$ if $a$ and $b$ are two vectors. But, $<a,\n",
        "b>=\\int_0^1 a(t)b(t)dt$ if $a$ and $b$ are two functions on\n",
        "$[0,1]$. (There is a nice generality between Fourier results on data\n",
        "and Fourier results on functions and other spaces. However, we'll\n",
        "largely focus on discrete data, so think of the first definition.) We\n",
        "can define the norm as $<a, a> = ||a||^2$, so that, the distance\n",
        "between two vectors is $||a-b||$.\n",
        "\n",
        "Consider a basis, that is a set of vectors, $b_k$ so that $||b_k|| =\n",
        "1$ and $<b_k, b_j>= I(k=j)$ and the set of vectors, ${\\cal H}$, that\n",
        "can be written as $\\sum_{k=1}^k b_k c_k$ for some constants $c_k$,\n",
        "then for any element $x\\in H$ we have that the best approximation\n",
        "using any subset of the indices, $S$, is of the form\n",
        "\n",
        "$$\n",
        "\\sum_{k\\in S} b_k <b_k, x>.\n",
        "$$\n",
        "\n",
        "For real vectors and the basis we consider, every vector can be\n",
        "written as a sum of the basis elements. You can have weird functions\n",
        "that can't be written out as sums of the basis elements, but they're\n",
        "weird functions.\n",
        "\n",
        "## More practically\n",
        "The basis we're interested in is $b_k$ which has element $m$ equal to\n",
        "$e^{-2\\pi i m k/n} = \\cos(2\\pi mk/n) + i \\sin (2\\pi mk / n)$ for\n",
        "$k=0,..., n-1$. Here, notice, we quit using the index $i$ since now it\n",
        "stands for the complex unit.  This basis satisfies our rules of $<b_k,\n",
        "b_j> = I(j=k)$ and having norm 1. So that, given any vector $x$, our\n",
        "best approximation to it is\n",
        "\n",
        "$$\n",
        "\\sum_{k=0}^{n-1} b_k <b_k, x> = \\sum_{k=0}^{n-1} b_k F_k\n",
        "$$\n",
        "\n",
        "where \n",
        "\n",
        "$$\n",
        "F_k = \\sum_{m=0}^{n-1} x_m e^{-2\\pi i m k / n}\n",
        "= \\sum_{m=0}^{n-1} x_m [\\cos(2\\pi m k / n) + i \\sin(2\\pi m k / n)].\n",
        "$$\n",
        "\n",
        "The collection of elements, $F = (F_0, \\ldots F_{n-1})$ are called the\n",
        "(discrete) Fourier coeficients and the operation that takes $x$ and\n",
        "converts it into $F$ is called the (discrete) Fourier transform.\n",
        "\n",
        "Let's consider  the case where $x=(1 ~4 ~9 ~16)'$. So then"
      ]
    },
    {
      "cell_type": "code",
      "metadata": {},
      "source": [
        "import numpy as np\n",
        "import matplotlib.pyplot as plt\n",
        "x = np.arange(1,5,1) ** 2\n",
        "t = np.arange(0, 4, 1)\n",
        "n = 4\n",
        "F0 = np.sum(x * np.exp(-2 * 1j * np.pi * t * 0 / n))\n",
        "F1 = np.sum(x * np.exp(-2 * 1j * np.pi * t * 1 / n))\n",
        "F2 = np.sum(x * np.exp(-2 * 1j * np.pi * t * 2 / n))\n",
        "F3 = np.sum(x * np.exp(-2 * 1j * np.pi * t * 3 / n))\n",
        "\n",
        "np.round([F0, F1, F2, F3], 3)"
      ],
      "execution_count": null,
      "outputs": []
    },
    {
      "cell_type": "code",
      "metadata": {},
      "source": [
        "F = np.fft.fft(x)\n",
        "F"
      ],
      "execution_count": null,
      "outputs": []
    },
    {
      "cell_type": "markdown",
      "metadata": {},
      "source": [
        "Let's give a more realistic example. Consider two cosine waves, one\n",
        "fast, one slow. Let's add them together and see if the FFT can figure\n",
        "out what we've done."
      ]
    },
    {
      "cell_type": "code",
      "metadata": {},
      "source": [
        "n = 1000\n",
        "t = np.arange(0, n, 1)\n",
        "c1 = np.cos(2 * np.pi * t * 5 / n)\n",
        "c2 = np.cos(2 * np.pi * t * 20 / n)\n",
        "plt.plot(t, c1)\n",
        "plt.plot(t, c2)\n",
        "plt.show"
      ],
      "execution_count": null,
      "outputs": []
    },
    {
      "cell_type": "code",
      "metadata": {},
      "source": [
        "x = c1 + .5 * c2\n",
        "plt.plot(t, x)\n",
        "plt.show"
      ],
      "execution_count": null,
      "outputs": []
    },
    {
      "cell_type": "code",
      "metadata": {},
      "source": [
        "a = np.fft.fft(x)\n",
        "b = a.real ** 2 + a.imag ** 2\n",
        "plt.plot(b)\n",
        "plt.show()\n",
        "np.where(b > 1e-5)"
      ],
      "execution_count": null,
      "outputs": []
    },
    {
      "cell_type": "markdown",
      "metadata": {},
      "source": [
        "### Some notes\n",
        "We can go backwards from the Fourier coefficients to the signal using the inverse transform. Also, for real signals sometimes people will multiply the signal by $(-1)^t$ in order for the plot of the norm of the coeficients (the power spectrum as its called) to look nicer."
      ]
    },
    {
      "cell_type": "code",
      "metadata": {},
      "source": [
        "a = np.fft.fft(x * (-1) ** t)\n",
        "b = a.real ** 2 + a.imag ** 2\n",
        "plt.plot(b)\n",
        "plt.show()"
      ],
      "execution_count": null,
      "outputs": []
    },
    {
      "cell_type": "code",
      "metadata": {},
      "source": [
        "a = np.fft.fft(x)\n",
        "b = np.fft.ifft(a)\n",
        "\n",
        "plt.plot(b)\n",
        "plt.show()"
      ],
      "execution_count": null,
      "outputs": []
    },
    {
      "cell_type": "markdown",
      "metadata": {},
      "source": [
        "### Filtering\n",
        "\n",
        "Filtering is the process of allowing certain frequency bands to be retained while others to be discarded. Imagine in our case that we want the low frequency band to pass and to get rid of the higher frequency. In this case we want a low pass filter. There's a lot of ways to filter signals, but let's just do it by simple thresholding. The slightly tricky thing about this in practical problems, is making sure that you're filtering at the frequencies that you want to. As an example, we have 1,000 time points. Say one time point is 1/100 of a second so that we have ten second of data. We have two cosine functions, one that is at 5 oscillations per 10 seconds (0.5 Hz) and one at 20 oscillations per 10 seconds (2 hz). Let's filter out anything ove 0.5 Hz."
      ]
    },
    {
      "cell_type": "code",
      "metadata": {},
      "source": [
        "## demonstrating hard filtering\n",
        "a = np.fft.fft(x)\n",
        "n = a.size\n",
        "timestep = 1/100\n",
        "## a function that shows what the frequencies are in the units you want\n",
        "w = np.fft.fftfreq(n, timestep)\n",
        "\n",
        "b = a\n",
        "b[(abs(w) > .5)] = 0\n",
        "c = np.fft.ifft(b).real\n",
        "plt.plot(c)\n",
        "plt.show()"
      ],
      "execution_count": null,
      "outputs": []
    },
    {
      "cell_type": "markdown",
      "metadata": {},
      "source": [
        "## Regression and FFTs\n",
        "\n",
        "Recall regression through the origin. If $y$ and $x$ are $n$-vectors\n",
        "of the same length, the minimizer of\n",
        "\n",
        "$$\n",
        "||y - \\beta x ||^2\n",
        "$$\n",
        "\n",
        "is $\\hat \\beta = <x, y> / ||x||^2$. Note, if $||x|| = 1$ then the\n",
        "estimate is just $\\hat \\beta = <x, y>$. Now consider a second\n",
        "variable, $w$, such that $<x, w> = 0$ and $||w|| = 1$. Consider now\n",
        "the least squares model\n",
        "\n",
        "$$\n",
        "||y - \\beta x - \\gamma w||^2.\n",
        "$$\n",
        "\n",
        "We argued that the best estimate for $\\beta$ now first gets rid of $w$\n",
        "be regressing it out of $y$ and $x$. So, consider that\n",
        "\n",
        "$$\n",
        "||y - <w, y> w - \\beta (x - <w, x> w)||^2 =\n",
        "||y - <w, y> w - \\beta x||^2. \n",
        "$$\n",
        "\n",
        "Thus, now the best estimate of $\\beta$ is\n",
        "\n",
        "$$\n",
        "<y - <w, y> w, x> = <y, x>.\n",
        "$$\n",
        "\n",
        "Or, in other words, if $x$ and $w$ are orthogonal then the coefficient\n",
        "estimate for $x$ with $w$ included is the same as the coefficient of\n",
        "$x$ by itself. This extends to more than two regressors.\n",
        "\n",
        "If you have a collection of $n$ mutually orthogonal vectors of norm\n",
        "one, they are called an orthonormal basis. For an orthonomal\n",
        "basis, 1. the coefficients are just the inner products between the\n",
        "regressors and the outcome and 2. inclusion or exclusion of other\n",
        "elemenents of the basis doesn't change a basis elements estimated\n",
        "coefficients.\n",
        "\n",
        "It's important to note, that this works quite generally. For example, for complex numbers as well as real. So, for example, consider the possibility that $x$ is $e^{-2\\pi i m k / n}$ for $m=0,\\ldots, n-1$ for a particular value of $k$. Vectors like this are orthogonal for different values of $k$ and all have norm 1. We have already seen that the Fourier coefficient is \n",
        "\n",
        "$$\n",
        "f_k = <y, x> = \\sum_{m=0}^{n-1} y_m e^{-2\\pi i m k / n} = \n",
        "\\sum_{m=0}^{n-1} y_m \\cos(-2\\pi m k / n) + i \\sum_{m=0}^{n-1} y_m \\sin(-2\\pi m k / n) \n",
        "$$\n",
        "\n",
        "where $y_m$ is element $m$ of $y$. Thus, the Fourier coefficients are\n",
        "exactly just least squares coefficients applied in the complex space.\n",
        "Thus we have that\n",
        "\n",
        "$$\n",
        "f_k = a_k + i b_k\n",
        "$$\n",
        "\n",
        "where $a_k$ and $b_k$ are the coefficients from linear models with\n",
        "just the sine and cosine terms. Of course, we don't actually fit\n",
        "Fourier transforms this way, since there's a much faster way to do,\n",
        "aptly named the fast Fourier transform (FFT). However, knowing how\n",
        "fast discrete Fourier transforms relate to linear models allows us to\n",
        "use them in creative ways, like putting them into models with other\n",
        "covariates, or in logistic regression models.\n",
        "\n",
        "Let's numerically look at FFTs and linear models using covid case counts in Italy as an example."
      ]
    },
    {
      "cell_type": "code",
      "metadata": {},
      "source": [
        "import pandas as pd\n",
        "import numpy as np\n",
        "from sklearn import linear_model\n",
        "import matplotlib.pyplot as plt\n",
        "import statsmodels.api as sm"
      ],
      "execution_count": null,
      "outputs": []
    },
    {
      "cell_type": "code",
      "metadata": {},
      "source": [
        "dat = pd.read_csv('https://raw.githubusercontent.com/CSSEGISandData/COVID-19/master/csse_covid_19_data/csse_covid_19_time_series/time_series_covid19_confirmed_global.csv')\n",
        "dat.head()"
      ],
      "execution_count": null,
      "outputs": []
    },
    {
      "cell_type": "code",
      "metadata": {},
      "source": [
        "## Get Italy, drop everyrthing except dates, convert to long (unstack converts to tuple)\n",
        "y=dat[dat['Country/Region'] == 'Italy'].drop([\"Province/State\", \"Country/Region\", \"Lat\", \"Long\"], axis=1).unstack()\n",
        "## convert from tuple to array\n",
        "y = np.asarray(y)  \n",
        "## get case counts instead of cumulative counts\n",
        "y = y[1 : y.size] - y[0 : (y.size - 1)]\n",
        "## get the first non zero entry\n",
        "y =  y[np.min(np.where(y !=  0)) : y.size]\n",
        "plt.plot(y)"
      ],
      "execution_count": null,
      "outputs": []
    },
    {
      "cell_type": "markdown",
      "metadata": {},
      "source": [
        "Let's look at a smoothed version of it and then take the residual. The residual is where we'd like to look at some oscillatory behavior."
      ]
    },
    {
      "cell_type": "code",
      "metadata": {},
      "source": [
        "n = y.size\n",
        "t = np.arange(0, n, 1)\n",
        "lowess = sm.nonparametric.lowess\n",
        "yhat = lowess(y, t, frac=.05,return_sorted=False)\n",
        "plt.plot(y)\n",
        "plt.plot(yhat)"
      ],
      "execution_count": null,
      "outputs": []
    },
    {
      "cell_type": "code",
      "metadata": {},
      "source": [
        "## We're interested in the residual\n",
        "e = y - yhat\n",
        "plt.plot(e)"
      ],
      "execution_count": null,
      "outputs": []
    },
    {
      "cell_type": "markdown",
      "metadata": {},
      "source": [
        "Let's manually create our Fourier bases. We're just going to pick some periods to investigate. We'll pick a fast varying and slow varying."
      ]
    },
    {
      "cell_type": "code",
      "metadata": {},
      "source": [
        "## Create 4 elements\n",
        "## Orthonormal basis (note dividing by sqrt(n/2) makes them norm 1)\n",
        "c5  = np.cos(-2 * np.pi * t * 5 / n  ) / np.sqrt(n /2)\n",
        "c20 = np.cos(-2 * np.pi * t * 20 / n ) / np.sqrt(n /2)\n",
        "s5  = np.sin(-2 * np.pi * t * 5  / n  )/ np.sqrt(n /2)\n",
        "s20 = np.sin(-2 * np.pi * t * 20 / n  ) / np.sqrt(n /2)"
      ],
      "execution_count": null,
      "outputs": []
    },
    {
      "cell_type": "code",
      "metadata": {},
      "source": [
        "fig, axs = plt.subplots(2, 2)\n",
        "axs[0,0].plot(t, c5)\n",
        "axs[0,1].plot(t, c20)\n",
        "axs[1,0].plot(t, s5)\n",
        "axs[1,1].plot(t, s20)\n",
        "plt.show()"
      ],
      "execution_count": null,
      "outputs": []
    },
    {
      "cell_type": "markdown",
      "metadata": {},
      "source": [
        "Let's verify that they are indeed orthonormal. That is, we want to show that $<x_i, x_j> = I(i =j)$. We also show that they are all mean 0."
      ]
    },
    {
      "cell_type": "code",
      "metadata": {},
      "source": [
        "## Verify that they are orthonormal mean 0, round to 6 decimal places\n",
        "np.around( [\n",
        " np.sum(c5),\n",
        " np.sum(c20),\n",
        " np.sum(s5),\n",
        " np.sum(s20),\n",
        " np.sum(c5 * c5),\n",
        " np.sum(c20 * c20),\n",
        " np.sum(s5 * s5),\n",
        " np.sum(s20 * s20),\n",
        " np.sum(c5 * s5),\n",
        " np.sum(c5 * s20),\n",
        " np.sum(c5 * c20),\n",
        " np.sum(s5 * s20),\n",
        "], 6)"
      ],
      "execution_count": null,
      "outputs": []
    },
    {
      "cell_type": "markdown",
      "metadata": {},
      "source": [
        "Let's take the FFT, the fast (discrete) Fourier transform th way one would normally do it. First, we use FFT in numpy. Then, there's a convenient method, `fftfreq`, which gives the associated frequencies with each element of the transform. Finally, we plot the spectral density, which is the sum of the real and complex Fourier coefficients. Sorting the elements first is necessary to connect the dots on the plot. Interestingly, once we remove the trend from the Italy data, there's some very noticeable spikes in the spectral density, which implies large coefficients on that specific frequency. This is possibly some reporting issue."
      ]
    },
    {
      "cell_type": "code",
      "metadata": {},
      "source": [
        "f = np.fft.fft(e)\n",
        "w = np.fft.fftfreq(n)\n",
        "ind = w.argsort()\n",
        "f = f[ind] \n",
        "w = w[ind]\n",
        "plt.plot(w, f.real**2 + f.imag**2)"
      ],
      "execution_count": null,
      "outputs": []
    },
    {
      "cell_type": "markdown",
      "metadata": {},
      "source": [
        "Now let's manually find the coefficients using our constructed bases and the formula that the coefficients."
      ]
    },
    {
      "cell_type": "code",
      "metadata": {},
      "source": [
        "[\n",
        " np.sum(c5 * e) * np.sqrt(n / 2),\n",
        " np.sum(c20 * e) * np.sqrt(n / 2),\n",
        " np.sum(s5 * e) * np.sqrt(n / 2),\n",
        " np.sum(s20 * e) * np.sqrt(n / 2),\n",
        "] "
      ],
      "execution_count": null,
      "outputs": []
    },
    {
      "cell_type": "code",
      "metadata": {},
      "source": [
        "sreg = linear_model.LinearRegression()\n",
        "x=np.c_[c5, c20, s5, s20]\n",
        "fit = sreg.fit(x, y)\n",
        "fit.coef_ * np.sqrt(n/2)"
      ],
      "execution_count": null,
      "outputs": []
    },
    {
      "cell_type": "code",
      "metadata": {},
      "source": [
        "x=np.c_[c5, s5]\n",
        "fit = sreg.fit(x, y)\n",
        "fit.coef_ * np.sqrt(n/2)"
      ],
      "execution_count": null,
      "outputs": []
    },
    {
      "cell_type": "code",
      "metadata": {},
      "source": [
        "test = np.where( np.abs(f.real / np.sum(c5 * y) / np.sqrt(n / 2) - 1) < 1e-5) \n",
        "[test, f.real[test], w[test], 5 / n]"
      ],
      "execution_count": null,
      "outputs": []
    },
    {
      "cell_type": "code",
      "metadata": {},
      "source": [
        "f.imag[test]"
      ],
      "execution_count": null,
      "outputs": []
    }
  ],
  "metadata": {
    "kernelspec": {
      "name": "python3",
      "language": "python",
      "display_name": "Python 3"
    }
  },
  "nbformat": 4,
  "nbformat_minor": 4
}