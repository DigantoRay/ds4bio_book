{
 "cells": [
  {
   "cell_type": "markdown",
   "id": "aa2140ee-4005-4ca7-95b3-50d7e0325853",
   "metadata": {
    "slideshow": {
     "slide_type": "slide"
    },
    "tags": []
   },
   "source": [
    "# Functions"
   ]
  },
  {
   "cell_type": "markdown",
   "id": "48e61244-3e1d-4ca7-9c1a-8b925b5d50fc",
   "metadata": {
    "slideshow": {
     "slide_type": "slide"
    },
    "tags": []
   },
   "source": [
    "## Basics "
   ]
  },
  {
   "cell_type": "markdown",
   "id": "a0340810-de5c-4d40-ae28-eed65f49eb9e",
   "metadata": {
    "slideshow": {
     "slide_type": "subslide"
    },
    "tags": []
   },
   "source": [
    "### Defining a function\n",
    "\n",
    "+ Python allows for the creation of functions, which help us abstract our data manipulations and create reusable code\n",
    "+ Creating functions in python is easy, let's go through an example of creating a function that raises a number to an integer power (which isn't necessary since there's already an operator to do this)"
   ]
  },
  {
   "cell_type": "code",
   "execution_count": 1,
   "id": "6128081a-73e3-4b5a-8e5b-107924fde629",
   "metadata": {},
   "outputs": [
    {
     "name": "stdout",
     "output_type": "stream",
     "text": [
      "125\n"
     ]
    }
   ],
   "source": [
    "def pow(x, n = 2):\n",
    "  return x ** n\n",
    "\n",
    "print(pow(5, 3))"
   ]
  },
  {
   "cell_type": "markdown",
   "id": "037fd4e6-1db3-4100-a85d-d24e2f6aa9c3",
   "metadata": {
    "slideshow": {
     "slide_type": "subslide"
    },
    "tags": []
   },
   "source": [
    "### Function arguments \n",
    "\n",
    "+ Our function has a mandatory arugment, `x`, and an optional arugment, `n`\n",
    "+ The optional argument takes the default value 2\n",
    "+ Consider the following about function argument ordering"
   ]
  },
  {
   "cell_type": "code",
   "execution_count": 2,
   "id": "db6fe4c9-e428-4237-a861-d9bc52668ffa",
   "metadata": {},
   "outputs": [
    {
     "name": "stdout",
     "output_type": "stream",
     "text": [
      "9\n",
      "9\n",
      "9\n"
     ]
    }
   ],
   "source": [
    "print(pow(3, 2))\n",
    "print(pow(x = 3, n = 2))\n",
    "print(pow(n = 2, x = 3))\n",
    "#pow(n = 2, 3) this returns an error, the second position is n, but it's a named argument too"
   ]
  },
  {
   "cell_type": "markdown",
   "id": "eff1da68-5dd1-4738-a1d8-e8e4b9a5a89d",
   "metadata": {
    "slideshow": {
     "slide_type": "slide"
    },
    "tags": []
   },
   "source": [
    "## More advanced function usage"
   ]
  },
  {
   "cell_type": "markdown",
   "id": "cb3b951a-601c-45bf-b1a6-d0fec45b785b",
   "metadata": {
    "slideshow": {
     "slide_type": "subslide"
    },
    "tags": []
   },
   "source": [
    "### Variable length arguments\n",
    "\n",
    "+ You can create functions with variable length arguments\n",
    "+ Here's an example where we make an (unnecessary) string concatenation function"
   ]
  },
  {
   "cell_type": "code",
   "execution_count": 3,
   "id": "4443836e-6f58-4aa2-b19b-7526bf5e9886",
   "metadata": {},
   "outputs": [
    {
     "name": "stdout",
     "output_type": "stream",
     "text": [
      "a/b/c\n",
      "a:b:c\n"
     ]
    }
   ],
   "source": [
    "def concat(*args, sep=\"/\"):\n",
    " return sep.join(args)  \n",
    "\n",
    "print(concat(\"a\", \"b\", \"c\"))\n",
    "print(concat(\"a\", \"b\", \"c\", sep = \":\"))"
   ]
  },
  {
   "cell_type": "markdown",
   "id": "2292868b-7684-4dab-a857-d737e2489f3d",
   "metadata": {
    "slideshow": {
     "slide_type": "subslide"
    },
    "tags": []
   },
   "source": [
    "### Lambda\n",
    "\n",
    "+ The lambda function can be used to make quick function declariations\n",
    "+ A good example is when you need a function as an argument to a function\n",
    "+ Here's an example where we make a function that returns a function"
   ]
  },
  {
   "cell_type": "code",
   "execution_count": 4,
   "id": "09fb4ebd-9079-48b0-b7f6-0aeb86dee9b5",
   "metadata": {},
   "outputs": [
    {
     "name": "stdout",
     "output_type": "stream",
     "text": [
      "9\n",
      "8\n"
     ]
    }
   ],
   "source": [
    "def makepow(n):\n",
    " return lambda x: x ** n\n",
    "\n",
    "square = makepow(2)\n",
    "print(square(3))\n",
    "cube = makepow(3)\n",
    "print(cube(2))"
   ]
  }
 ],
 "metadata": {
  "kernelspec": {
   "display_name": "Python 3 (ipykernel)",
   "language": "python",
   "name": "python3"
  },
  "language_info": {
   "codemirror_mode": {
    "name": "ipython",
    "version": 3
   },
   "file_extension": ".py",
   "mimetype": "text/x-python",
   "name": "python",
   "nbconvert_exporter": "python",
   "pygments_lexer": "ipython3",
   "version": "3.9.7"
  }
 },
 "nbformat": 4,
 "nbformat_minor": 5
}
