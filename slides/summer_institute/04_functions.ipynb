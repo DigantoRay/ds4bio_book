{
 "cells": [
  {
   "cell_type": "markdown",
   "id": "aa2140ee-4005-4ca7-95b3-50d7e0325853",
   "metadata": {
    "slideshow": {
     "slide_type": "slide"
    },
    "tags": []
   },
   "source": [
    "# Functions"
   ]
  },
  {
   "cell_type": "markdown",
   "id": "48e61244-3e1d-4ca7-9c1a-8b925b5d50fc",
   "metadata": {
    "slideshow": {
     "slide_type": "slide"
    },
    "tags": []
   },
   "source": [
    "## Basics "
   ]
  },
  {
   "cell_type": "markdown",
   "id": "a0340810-de5c-4d40-ae28-eed65f49eb9e",
   "metadata": {
    "slideshow": {
     "slide_type": "subslide"
    },
    "tags": []
   },
   "source": [
    "### Defining a function\n",
    "\n",
    "+ Python allows for the creation of functions, which help us abstract our data manipulations and create reusable code\n",
    "+ Creating functions in python is easy, let's go through an example of creating a function that raises a number to an integer power (which isn't necessary since there's already an operator to do this)"
   ]
  },
  {
   "cell_type": "markdown",
   "id": "9562de5f",
   "metadata": {
    "slideshow": {
     "slide_type": "notes"
    }
   },
   "source": [
    "Functions are a fundamental aspect of Python programming.\n",
    "They allow us to encapsulate code that performs a specific task into a single, reusable unit.\n",
    "Functions can take input, process it, and return an output, which helps in organizing code, making it more readable and maintainable. Functions in Python are defined using the def keyword.\n",
    "\n",
    "A function has a name, optional parameters, a body, and an optional return statement."
   ]
  },
  {
   "cell_type": "code",
   "execution_count": 1,
   "id": "6128081a-73e3-4b5a-8e5b-107924fde629",
   "metadata": {
    "slideshow": {
     "slide_type": "slide"
    }
   },
   "outputs": [
    {
     "name": "stdout",
     "output_type": "stream",
     "text": [
      "125\n"
     ]
    }
   ],
   "source": [
    "def pow(x, n = 2):\n",
    "  return x ** n\n",
    "\n",
    "print(pow(5, 3))"
   ]
  },
  {
   "cell_type": "markdown",
   "id": "504ee7c8",
   "metadata": {
    "slideshow": {
     "slide_type": "notes"
    }
   },
   "source": [
    "Let’s create a simple function to raise a number to an integer power.\n",
    "While Python provides built-in operators (like **) for exponentiation, writing this function will help us understand function structure."
   ]
  },
  {
   "cell_type": "markdown",
   "id": "037fd4e6-1db3-4100-a85d-d24e2f6aa9c3",
   "metadata": {
    "slideshow": {
     "slide_type": "subslide"
    },
    "tags": []
   },
   "source": [
    "### Function arguments \n",
    "\n",
    "+ Our function has a mandatory arugment, `x`, and an optional arugment, `n`\n",
    "+ The optional argument takes the default value 2\n",
    "+ Consider the following about function argument ordering"
   ]
  },
  {
   "cell_type": "markdown",
   "id": "4008a768",
   "metadata": {
    "slideshow": {
     "slide_type": "notes"
    }
   },
   "source": [
    "In our function, we have two types of arguments: a mandatory one, x, and an optional one, n. The mandatory argument, x, must always be provided by the user when calling the function, whereas n has a default value of 2 and doesn't need to be specified unless we want to override it. This means if n isn't given a value, it will automatically be set to 2. This kind of structure in argument ordering helps us build more flexible functions, allowing for straightforward, default behaviors while still enabling customization when needed."
   ]
  },
  {
   "cell_type": "code",
   "execution_count": 2,
   "id": "db6fe4c9-e428-4237-a861-d9bc52668ffa",
   "metadata": {
    "slideshow": {
     "slide_type": "subslide"
    }
   },
   "outputs": [
    {
     "name": "stdout",
     "output_type": "stream",
     "text": [
      "9\n",
      "9\n",
      "9\n"
     ]
    }
   ],
   "source": [
    "print(pow(3, 2))\n",
    "print(pow(x = 3, n = 2))\n",
    "print(pow(n = 2, x = 3))\n",
    "#pow(n = 2, 3) this returns an error, the second position is n, but it's a named argument too"
   ]
  },
  {
   "cell_type": "markdown",
   "id": "c831a0da",
   "metadata": {
    "slideshow": {
     "slide_type": "notes"
    }
   },
   "source": [
    "In these examples, print(pow(3, 2)), results in 9. Similarly, specifying the arguments explicitly as print(pow(x = 3, n = 2)) also gives 9. Interestingly, you can switch the order when using named arguments, so print(pow(n = 2, x = 3)) still works and produces 9. However, #pow(n = 2, 3) throws an error because the unnamed argument 3 follows a named argument n = 2, which Python doesn’t allow. In Python, once you use a named argument, all following arguments must also be named, ensuring clarity and avoiding confusion in argument assignment."
   ]
  },
  {
   "cell_type": "markdown",
   "id": "eff1da68-5dd1-4738-a1d8-e8e4b9a5a89d",
   "metadata": {
    "slideshow": {
     "slide_type": "slide"
    },
    "tags": []
   },
   "source": [
    "## More advanced function usage"
   ]
  },
  {
   "cell_type": "markdown",
   "id": "cb3b951a-601c-45bf-b1a6-d0fec45b785b",
   "metadata": {
    "slideshow": {
     "slide_type": "subslide"
    },
    "tags": []
   },
   "source": [
    "### Variable length arguments\n",
    "\n",
    "+ You can create functions with variable length arguments\n",
    "+ Here's an example where we make an (unnecessary) string concatenation function"
   ]
  },
  {
   "cell_type": "code",
   "execution_count": 3,
   "id": "4443836e-6f58-4aa2-b19b-7526bf5e9886",
   "metadata": {
    "slideshow": {
     "slide_type": "fragment"
    }
   },
   "outputs": [
    {
     "name": "stdout",
     "output_type": "stream",
     "text": [
      "a/b/c\n",
      "a:b:c\n"
     ]
    }
   ],
   "source": [
    "def concat(*args, sep=\"/\"):\n",
    " return sep.join(args)  \n",
    "\n",
    "print(concat(\"a\", \"b\", \"c\"))\n",
    "print(concat(\"a\", \"b\", \"c\", sep = \":\"))"
   ]
  },
  {
   "cell_type": "markdown",
   "id": "fcac5e89",
   "metadata": {
    "slideshow": {
     "slide_type": "notes"
    }
   },
   "source": [
    "Let's explore variable length arguments in Python. This feature allows us to create functions that can accept an arbitrary number of arguments, providing greater flexibility. Consider a simple example: a function that concatenates strings. While we could use Python's built-in string joining capabilities, this example helps illustrate the concept.\n",
    "\n",
    "In the function, we use *args to denote that it can accept any number of string arguments. Inside the function, these arguments are treated as a tuple, enabling us to loop through them and concatenate them into a single string. Even though this concatenation might seem unnecessary given Python's powerful string handling, it demonstrates how you can dynamically handle varying input lengths. This capability is particularly useful in scenarios where the number of inputs can't be predetermined, making your functions more adaptable to different situations."
   ]
  },
  {
   "cell_type": "markdown",
   "id": "2292868b-7684-4dab-a857-d737e2489f3d",
   "metadata": {
    "slideshow": {
     "slide_type": "subslide"
    },
    "tags": []
   },
   "source": [
    "### Lambda\n",
    "\n",
    "+ The lambda function can be used to make quick function declariations\n",
    "+ A good example is when you need a function as an argument to a function\n",
    "+ Here's an example where we make a function that returns a function "
   ]
  },
  {
   "cell_type": "code",
   "execution_count": 4,
   "id": "09fb4ebd-9079-48b0-b7f6-0aeb86dee9b5",
   "metadata": {
    "slideshow": {
     "slide_type": "fragment"
    }
   },
   "outputs": [
    {
     "name": "stdout",
     "output_type": "stream",
     "text": [
      "9\n",
      "8\n"
     ]
    }
   ],
   "source": [
    "def makepow(n):\n",
    " return lambda x: x ** n\n",
    "\n",
    "square = makepow(2)\n",
    "print(square(3))\n",
    "cube = makepow(3)\n",
    "print(cube(2))"
   ]
  },
  {
   "cell_type": "markdown",
   "id": "274d5de9",
   "metadata": {
    "slideshow": {
     "slide_type": "notes"
    }
   },
   "source": [
    "A lambda function is a concise way to create small, anonymous functions on the fly, without formally defining them using the def keyword. They are particularly handy for quick function declarations when you need a function as an argument to another function or for short-lived operations.\n",
    "In our example, makepow(n) returns a lambda that raises x to the power of n. When we call makepow(2), it gives us a squaring function (square), and makepow(3) gives us a cubing function (cube). print(square(3)) outputs 9, and print(cube(2)) outputs 8, demonstrating how lambdas can create simple functions on the fly."
   ]
  }
 ],
 "metadata": {
  "kernelspec": {
   "display_name": "Python 3 (ipykernel)",
   "language": "python",
   "name": "python3"
  },
  "language_info": {
   "codemirror_mode": {
    "name": "ipython",
    "version": 3
   },
   "file_extension": ".py",
   "mimetype": "text/x-python",
   "name": "python",
   "nbconvert_exporter": "python",
   "pygments_lexer": "ipython3",
   "version": "3.9.7"
  }
 },
 "nbformat": 4,
 "nbformat_minor": 5
}
