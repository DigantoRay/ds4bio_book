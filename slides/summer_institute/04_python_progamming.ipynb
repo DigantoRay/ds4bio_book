{
 "cells": [
  {
   "cell_type": "markdown",
   "id": "04e5766e-1b6f-45b8-98a4-ff15044c3120",
   "metadata": {
    "slideshow": {
     "slide_type": "slide"
    },
    "tags": []
   },
   "source": [
    "# Python programming 1"
   ]
  },
  {
   "cell_type": "markdown",
   "id": "5cde6156-39c3-4898-b016-6ce89ab8cb5c",
   "metadata": {
    "slideshow": {
     "slide_type": "slide"
    },
    "tags": []
   },
   "source": [
    "## Control flow\n",
    "\n",
    "###  If statements\n",
    "\n",
    "+ Python has if statements like most programming languages\n",
    "+ Notice the indentation and the `:`"
   ]
  },
  {
   "cell_type": "code",
   "execution_count": 2,
   "id": "f33a408a-84cd-4b5a-8511-0cfea531383a",
   "metadata": {
    "slideshow": {
     "slide_type": "fragment"
    }
   },
   "outputs": [
    {
     "name": "stdout",
     "output_type": "stream",
     "text": [
      "Gryffindor\n"
     ]
    }
   ],
   "source": [
    "# do this if you'd like to prompt for an input\n",
    "# x = input(\"are you mean (y/n)? > \")\n",
    "# Let's just assume the user input 'n' and just assign x='n'\n",
    "x = 'n'\n",
    "if x == 'y': \n",
    " print(\"Slytherine!\")\n",
    "else:\n",
    " print(\"Gryffindor\")"
   ]
  },
  {
   "cell_type": "markdown",
   "id": "ebbd20d1-9176-4d2b-9873-ce6cf51131f9",
   "metadata": {
    "slideshow": {
     "slide_type": "notes"
    },
    "tags": []
   },
   "source": [
    "Control flow in Python is essential for making decisions in your code. Python’s if statements work similarly to those in other programming languages but pay special attention to indentation and the use of the colon. The indentation defines the block of code to be executed if the condition is true. Proper indentation is crucial as it ensures the code runs as expected. Let's look at a simple example to see how if statements control the flow based on conditions let's assume a user input stored in x. The if statement checks if x is equal to 'y'. If true, it prints 'Slytherine!', otherwise, it prints 'Gryffindor'. "
   ]
  },
  {
   "cell_type": "markdown",
   "id": "c6e719b7-882c-4441-86fa-42d3e2418dcc",
   "metadata": {
    "slideshow": {
     "slide_type": "subslide"
    },
    "tags": []
   },
   "source": [
    "### White space\n",
    "\n",
    "+ White space is more meaningful in python than other languages\n",
    "+ This is actually useful, as it forces good indentation practices\n",
    "\n",
    "```\n",
    "## Some more about white space\n",
    "if statementA:\n",
    "  statementB   # Executed if statementA is True\n",
    "statementC     # Executed regardless since it's not indented\n",
    "```"
   ]
  },
  {
   "cell_type": "markdown",
   "id": "3157dc1f",
   "metadata": {
    "slideshow": {
     "slide_type": "notes"
    }
   },
   "source": [
    "Whitespace is more meaningful in Python compared to other programming languages. This feature enforces good indentation practices, improving code readability. For example, in the following pseudo-code if statement A is true, statement B is executed due to its indentation. However, statement C is executed regardless of statement A because it’s not indented under the if block. Proper use of whitespace ensures clear, maintainable code structure."
   ]
  },
  {
   "cell_type": "markdown",
   "id": "19bd82bb-bc6f-4b5a-8436-a6077302b547",
   "metadata": {
    "slideshow": {
     "slide_type": "subslide"
    },
    "tags": []
   },
   "source": [
    "### General if statement structure\n",
    "\n",
    "\n",
    "```\n",
    "if statement1 :\n",
    " ...\n",
    "elif statement2 :\n",
    " ...\n",
    "else \n",
    " ...\n",
    "```\n"
   ]
  },
  {
   "cell_type": "markdown",
   "id": "3914fa70",
   "metadata": {
    "slideshow": {
     "slide_type": "notes"
    }
   },
   "source": [
    "The general structure of if statements in Python allows for multiple conditions to be checked sequentially using if, elif, and else. The basic format looks like this. Next slide will show an example of this structure in action."
   ]
  },
  {
   "cell_type": "markdown",
   "id": "5c01463c",
   "metadata": {
    "slideshow": {
     "slide_type": "subslide"
    }
   },
   "source": [
    "### Example"
   ]
  },
  {
   "cell_type": "code",
   "execution_count": null,
   "id": "4afd61f3-3fb6-471a-b14a-c188a7de854c",
   "metadata": {
    "slideshow": {
     "slide_type": "fragment"
    }
   },
   "outputs": [],
   "source": [
    "# note this is just equal to the statement `(a < 0) - (a > 0)`\n",
    "a = 5\n",
    "\n",
    "if a < 0 :\n",
    "  a = -1\n",
    "elif a > 0 :\n",
    "  a = 1\n",
    "else :\n",
    "  a = 0\n",
    "\n",
    "print(a)"
   ]
  },
  {
   "cell_type": "markdown",
   "id": "e04c965d",
   "metadata": {
    "slideshow": {
     "slide_type": "notes"
    }
   },
   "source": [
    "In this example, Python checks each condition in order. If a is greater than 0, it prints Positive. If a is less than 0, it prints Negative. If neither condition is met, it defaults to printing Zero. This structure provides a clear and organized way to handle multiple conditional scenarios."
   ]
  },
  {
   "cell_type": "markdown",
   "id": "bd30d824-8081-4369-be21-b2b12d16f126",
   "metadata": {
    "slideshow": {
     "slide_type": "slide"
    },
    "tags": []
   },
   "source": [
    "## for and while loops"
   ]
  },
  {
   "cell_type": "markdown",
   "id": "cacc1a7f-1ee0-4aed-a49f-5f93069c1b09",
   "metadata": {
    "slideshow": {
     "slide_type": "subslide"
    },
    "tags": []
   },
   "source": [
    "### looping in python\n",
    "\n",
    "+ Python has for and while loops \n",
    "+ for loops will iterate over most objects for which it makes sense\n",
    "+ Don't forget the indentation or the `:`\n"
   ]
  },
  {
   "cell_type": "markdown",
   "id": "ed7a9d20",
   "metadata": {
    "slideshow": {
     "slide_type": "notes"
    }
   },
   "source": [
    "Python supports both for and while loops for iterative operations. For loops can iterate over various objects such as lists, tuples, strings, and more. Remember to use proper indentation and a colon (:) to define the loop body. Following slide shows two examples of for loops in Python."
   ]
  },
  {
   "cell_type": "markdown",
   "id": "f7e9b5f8",
   "metadata": {
    "slideshow": {
     "slide_type": "subslide"
    }
   },
   "source": [
    "### Example for loop"
   ]
  },
  {
   "cell_type": "code",
   "execution_count": 3,
   "id": "fa4cbf09-07ff-469e-82ee-48ad2b4c2c64",
   "metadata": {
    "slideshow": {
     "slide_type": "fragment"
    }
   },
   "outputs": [
    {
     "name": "stdout",
     "output_type": "stream",
     "text": [
      "t\n",
      "e\n",
      "s\n",
      "t\n"
     ]
    }
   ],
   "source": [
    "for i in \"test\":\n",
    "    print(i)"
   ]
  },
  {
   "cell_type": "code",
   "execution_count": 4,
   "id": "e28a1bb2-141d-4944-aebe-d521e4c165a3",
   "metadata": {
    "slideshow": {
     "slide_type": "fragment"
    }
   },
   "outputs": [
    {
     "name": "stdout",
     "output_type": "stream",
     "text": [
      "[1, 2]\n",
      "[3, 4]\n"
     ]
    }
   ],
   "source": [
    "for i in [[1, 2], [3, 4]]:\n",
    "    print(i)"
   ]
  },
  {
   "cell_type": "markdown",
   "id": "a0127a84",
   "metadata": {
    "slideshow": {
     "slide_type": "notes"
    }
   },
   "source": [
    "In the first example, the for loop iterates over each character in the string \"test\", printing each character individually. In second example, the for loop iterates over a list of lists. Each iteration prints one of the inner lists. This demonstrates the flexibility of for loops in Python, allowing them to work with strings, lists, and other iterable objects. As always, proper indentation and the use of a colon are crucial."
   ]
  },
  {
   "cell_type": "markdown",
   "id": "a0fec0d4-a6dd-4bca-b059-2ee2eee329aa",
   "metadata": {
    "slideshow": {
     "slide_type": "subslide"
    },
    "tags": []
   },
   "source": [
    "### range\n",
    "+ range is a function that creates an iterable list of integers\n",
    "+ `range(4)` is not itself a list, but `list(range(4))` is"
   ]
  },
  {
   "cell_type": "code",
   "execution_count": 14,
   "id": "aa749189-53a3-4698-9d3a-0cb0d2c2a8f4",
   "metadata": {
    "slideshow": {
     "slide_type": "fragment"
    }
   },
   "outputs": [
    {
     "name": "stdout",
     "output_type": "stream",
     "text": [
      "<class 'range'>\n",
      "<class 'list'>\n"
     ]
    }
   ],
   "source": [
    "print(type(range(4)))\n",
    "print(type(list(range(4))))"
   ]
  },
  {
   "cell_type": "markdown",
   "id": "27a1ce6f",
   "metadata": {
    "slideshow": {
     "slide_type": "notes"
    }
   },
   "source": [
    "The range function in Python is used to generate a sequence of integers. It creates an iterable, but it’s not a list itself. For example, range(4) generates an iterable that represents the sequence 0, 1, 2, 3, but it’s not a list. To convert it to a list, you can use list(range(4)). This function is particularly useful in for loops when you need to iterate a specific number of times. The following example demonstrates how to use range in a for loop."
   ]
  },
  {
   "cell_type": "code",
   "execution_count": 1,
   "id": "0f3c2311-672b-4728-89c3-8ac96ebb72d7",
   "metadata": {
    "slideshow": {
     "slide_type": "subslide"
    }
   },
   "outputs": [
    {
     "name": "stdout",
     "output_type": "stream",
     "text": [
      "0\n",
      "1\n",
      "2\n",
      "3\n"
     ]
    }
   ],
   "source": [
    "for i in range(4) :\n",
    " print(i)"
   ]
  },
  {
   "cell_type": "markdown",
   "id": "315beabe-a999-4b5d-84ea-9f7259f7d7b8",
   "metadata": {
    "slideshow": {
     "slide_type": "subslide"
    },
    "tags": []
   },
   "source": [
    "### While loop\n",
    "\n",
    "A while loop in Python repeatedly executes a block of code as long as a specified condition is true. It's useful for scenarios where the number of iterations isn't predetermined."
   ]
  },
  {
   "cell_type": "markdown",
   "id": "b651e825",
   "metadata": {
    "slideshow": {
     "slide_type": "notes"
    }
   },
   "source": [
    "A while loop in Python repeatedly executes a block of code as long as a specified condition is true. It's useful for scenarios where the number of iterations isn't predetermined. The loop begins by evaluating the condition; if it's true, the code within the loop executes. After executing the code block, the condition is re-evaluated, and if it remains true, the loop continues. This cycle repeats until the condition evaluates to false, at which point the loop terminates and control passes to the next statement following the loop. To avoid infinite loops, ensure that the loop's condition will eventually become false, typically by updating a variable within the loop. "
   ]
  },
  {
   "cell_type": "markdown",
   "id": "33dcfd08",
   "metadata": {
    "slideshow": {
     "slide_type": "subslide"
    }
   },
   "source": [
    "### Example while loop"
   ]
  },
  {
   "cell_type": "code",
   "execution_count": 15,
   "id": "1d14a8bf-42dd-4018-bdf1-239262248ed2",
   "metadata": {
    "slideshow": {
     "slide_type": "fragment"
    }
   },
   "outputs": [
    {
     "name": "stdout",
     "output_type": "stream",
     "text": [
      "3\n",
      "2\n",
      "1\n",
      "0\n"
     ]
    }
   ],
   "source": [
    "x = 4\n",
    "while x > 0 :\n",
    " x = x - 1\n",
    " print(x)"
   ]
  },
  {
   "cell_type": "markdown",
   "id": "1fbaa9ef",
   "metadata": {
    "slideshow": {
     "slide_type": "notes"
    }
   },
   "source": [
    "This example demonstrates the basic structure and functionality of a while loop. In this loop, we start with x equal to 4. The while loop continues as long as x is greater than 0. Inside the loop, x is decremented by 1 each iteration, and the new value of x is printed. This loop will print the values 3, 2, 1, and 0 before exiting, as the condition x > 0 will no longer be true once x reaches 0. "
   ]
  }
 ],
 "metadata": {
  "kernelspec": {
   "display_name": "Python 3 (ipykernel)",
   "language": "python",
   "name": "python3"
  },
  "language_info": {
   "codemirror_mode": {
    "name": "ipython",
    "version": 3
   },
   "file_extension": ".py",
   "mimetype": "text/x-python",
   "name": "python",
   "nbconvert_exporter": "python",
   "pygments_lexer": "ipython3",
   "version": "3.11.2"
  }
 },
 "nbformat": 4,
 "nbformat_minor": 5
}
