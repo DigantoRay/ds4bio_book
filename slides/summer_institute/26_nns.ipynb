{
 "cells": [
  {
   "cell_type": "markdown",
   "id": "e02bd2f5-b780-47cf-b231-954a981d6472",
   "metadata": {
    "slideshow": {
     "slide_type": "slide"
    },
    "tags": []
   },
   "source": [
    "# Neural networks"
   ]
  },
  {
   "cell_type": "markdown",
   "id": "f265e9df-7f2c-4c04-a341-5be7a4b1fd42",
   "metadata": {
    "slideshow": {
     "slide_type": "slide"
    },
    "tags": []
   },
   "source": [
    "## Basics\n",
    "\n",
    "+ Let's start by relating neural networks to regression. \n",
    "+ Consider a simple case where we have two nodes, $1$ and $X$ pointing to an outcome $Y$. \n",
    "+ What does this mean? Let's first put some context around the problem. \n",
    "+ Imagine that we want to use a subject's BMI $X$ to predict their blood pressure, $Y$. \n",
    "+ This diagram represents that."
   ]
  },
  {
   "cell_type": "code",
   "execution_count": null,
   "id": "d829f8e8-c25d-44f4-9c7f-eb9392ecb233",
   "metadata": {
    "slideshow": {
     "slide_type": "subslide"
    },
    "tags": []
   },
   "outputs": [],
   "source": [
    "import graph\n",
    "import networkx as nx\n",
    "import matplotlib.pyplot as plt\n",
    "import numpy as np\n",
    "import sklearn as skl"
   ]
  },
  {
   "cell_type": "code",
   "execution_count": 6,
   "id": "bab16458-0143-479f-96bc-e6bd32353392",
   "metadata": {
    "tags": [
     "hide-input"
    ]
   },
   "outputs": [
    {
     "data": {
      "image/png": "[encoded data removed]",
      "text/plain": [
       "<Figure size 144x144 with 1 Axes>"
      ]
     },
     "metadata": {},
     "output_type": "display_data"
    }
   ],
   "source": [
    "graph.basic_nn()"
   ]
  },
  {
   "cell_type": "markdown",
   "id": "222d933d-d518-4c63-92fb-4d01ab6dd78e",
   "metadata": {
    "slideshow": {
     "slide_type": "subslide"
    },
    "tags": []
   },
   "source": [
    "## To interpret this diagram as a neural network, consider the following rule:\n",
    "\n",
    "\n",
    "* Parent nodes that point to a child node are multiplied by weights then added together then operated on by an activation function to form the child node.*\n",
    "\n",
    "+ If the parent nodes point to the outcome, then the nodes are combined the operated on by a known function, called the **activation function** to form a prediction. "
   ]
  },
  {
   "cell_type": "markdown",
   "id": "ad359e60-0393-4a50-aeea-fe229e1952d3",
   "metadata": {
    "slideshow": {
     "slide_type": "subslide"
    },
    "tags": []
   },
   "source": [
    "+ So, in this case, this is saying that the intercept (node labeled $1$) times a weight plus BMI (node labeled $X$) times a different weight get combined to form a prediction for SBP $Y$. Or, in other words\n",
    "\n",
    "$$\n",
    "\\hat Y = g(w_0 \\times 1 + w_1 \\times X)\n",
    "$$\n",
    "\n",
    "+ where $g$ is a function that we specify. So in this case, if $w_0 = 120$, $w_1 = .1$ and $g$ is an idenity function, $g(a) = a$, and a subject had a BMI of 30, then the prediction would be \n",
    "\n",
    "$$\n",
    "\\hat Y = g(120 + .1 * 30) = 120.3\n",
    "$$"
   ]
  },
  {
   "cell_type": "markdown",
   "id": "15adb85a-cc05-4486-82ad-cf6e1e4dc44f",
   "metadata": {
    "slideshow": {
     "slide_type": "subslide"
    },
    "tags": []
   },
   "source": [
    "+ Note $g$ is not shown in the diagram (though maybe you could with the shape of the child + node) or something like that0. Also not shown in the daigram is:\n",
    "+ The loss function, i.e. how to measure the different between $\\hat Y$ and $Y$.\n",
    "+ The way the loss function combines subjects; we have multiple BMIs and SBPs\n",
    "+ How we obtain the weights, $W_0$ and $W_1$; this is done by minmizing the loss function using an algorithm"
   ]
  },
  {
   "cell_type": "markdown",
   "id": "a17ccfd4-b985-48d8-a207-c836f53bf5b6",
   "metadata": {
    "slideshow": {
     "slide_type": "slide"
    },
    "tags": []
   },
   "source": [
    "### Linear regression as a NN\n",
    "\n",
    "+ Imagine the case where $g$ is an identity function, our loss function for different subjects is squared error and we combine different losses by adding them up. Then, our weights are obtained by minmizing\n",
    "\n",
    "$$\n",
    "\\sum_{i=1}^N (Y_i - \\hat Y_i)^2 \n",
    "$$\n",
    "\n",
    "+ and so, presuming our optimization algorithm works well, it should be idential to linear regression. "
   ]
  },
  {
   "cell_type": "markdown",
   "id": "95893bb3-9495-4b26-a21e-f689e6ea4884",
   "metadata": {
    "slideshow": {
     "slide_type": "slide"
    },
    "tags": []
   },
   "source": [
    "### Logistic regression as a NN\n",
    "\n",
    "+ Consider a different setting. Imagine if our $Y$ is 0 or 1 based on whether or not the subject is taking anti-hypertensive mediations. \n",
    "+ Further, let $g$ be the sigmoid function, $g(a) = 1 / \\{1 + \\exp(-a)\\}$. \n",
    "+ Our prediction is\n",
    "\n",
    "$$\n",
    "\\hat Y = \\{1 + \\exp(-W_0 - W_1 X)\\}^{-1}\n",
    "$$\n",
    "\n",
    "+ which is the logistic regression prediction with intercept $W_0$ and slope $W_1$. Consider a case where"
   ]
  },
  {
   "cell_type": "markdown",
   "id": "d5bd8a3c-df41-4344-8bce-f6cb3033df85",
   "metadata": {
    "slideshow": {
     "slide_type": "subslide"
    },
    "tags": []
   },
   "source": [
    "### Example\n",
    "\n",
    "+ $W_0 = -4$, $W_1 = .1$ and $X=30$, then our $\\hat Y = 1 / \\{1 + \\exp[-(-4 + .1\\times 30)\\}]\\approx .27$. \n",
    "+ Thus, this model estimates a 27% probability that a subject with a BMI of 30 has hypertension."
   ]
  },
  {
   "cell_type": "code",
   "execution_count": 2,
   "id": "fa2fed7a-baa3-4152-b3ae-e09c1cb7e5c4",
   "metadata": {},
   "outputs": [
    {
     "data": {
      "text/plain": [
       "0.2689414213699951"
      ]
     },
     "execution_count": 2,
     "metadata": {},
     "output_type": "execute_result"
    }
   ],
   "source": [
    "1 / (1 + np.exp(-(-4 + .1 * 30)))"
   ]
  },
  {
   "cell_type": "markdown",
   "id": "3f6d16b2-28c6-4a6f-aab9-403ba8fc9b43",
   "metadata": {
    "slideshow": {
     "slide_type": "subslide"
    },
    "tags": []
   },
   "source": [
    "+ Further, if we specify that the loss function is binary cross entropy\n",
    "\n",
    "$$\n",
    "- \\sum_{i=1}^n \\{ Y_i \\log(\\hat Y_i) + (1 - Y_i) \\log(1 - \\hat Y_i)\\} / N\n",
    "$$\n",
    "\n",
    "+ then minmizing our loss function is identical to maximizing the likelihood for logistic regression. "
   ]
  },
  {
   "cell_type": "markdown",
   "id": "d7c4279f-59fc-4b57-b2d4-bd29b3692289",
   "metadata": {
    "slideshow": {
     "slide_type": "slide"
    },
    "tags": []
   },
   "source": [
    "## More layers\n",
    "\n",
    "+ NNs get better when we add more layers, since then they can discover interactions and non-linearities. \n",
    "+ Consider the following model. Notice we quit explicitly adding the bias (intercept) term / node. "
   ]
  },
  {
   "cell_type": "code",
   "execution_count": 7,
   "id": "77f04c97-3a64-4c1e-98b6-05cdf7ebd9f0",
   "metadata": {
    "tags": [
     "hide-input"
    ]
   },
   "outputs": [
    {
     "data": {
      "image/png": "[encoded data removed]",
      "text/plain": [
       "<Figure size 432x288 with 1 Axes>"
      ]
     },
     "metadata": {},
     "output_type": "display_data"
    }
   ],
   "source": [
    "graph.two_layer_nn()"
   ]
  },
  {
   "cell_type": "markdown",
   "id": "f6ca8ef1-cb07-442b-b0da-f4480e6d76a4",
   "metadata": {
    "slideshow": {
     "slide_type": "subslide"
    },
    "tags": []
   },
   "source": [
    "+ Usually, the nodes are added in so called layers. $(X_1, X_2)$ is the input layer, \n",
    "+ $(H_{11}, H_{12})$ is the first hidden layer, \n",
    "+ $(H_{21}, H_{22})$ is the second hidden layer and $Y$ is the output layer. \n",
    "+ Imagine plugging an $X_1$ and $X_2$ into this network. It would feed forward through the network as\n",
    "\n",
    "$$\n",
    "\\begin{align}\n",
    "H_{11} = & g_1(W_{011} + W_{111} X_1 + W_{211} X_2) \\\\\n",
    "H_{12} = & g_1(W_{012} + W_{112} X_1 + W_{212} X_2) \\\\\n",
    "H_{21} = & g_2(W_{021} + W_{121} H_{11} + W_{221} H_{12}) \\\\\n",
    "H_{22} = & g_2(W_{022} + W_{122} H_{12} + W_{222} H_{12}) \\\\\n",
    "\\hat Y = & g_3(W_{031} + W_{131} H_{21} + W_{231} H_{22})\n",
    "\\end{align}\n",
    "$$\n",
    "\n",
    "+ where $g_k$ are specified activation functions. \n",
    "+ Typically, we would have a different activation function for the output layer than the others, and the other would have the same activation function."
   ]
  },
  {
   "cell_type": "markdown",
   "id": "8270a6e1-e1f6-411a-b1eb-e81b2134ecc3",
   "metadata": {
    "slideshow": {
     "slide_type": "subslide"
    },
    "tags": []
   },
   "source": [
    "## Activation functions\n",
    "\n",
    "+ The output activation function tends to be based on the structure of the outcome. \n",
    "+ For example, a binary outcome would likely have a sigmoidal, or other function from $\\mathbb{R}$ to $[0, 1]$ so as to model a probability. \n",
    "+ The most popular right now is the rectified linear unit (RELU) function. \n",
    "\n",
    "$$\n",
    "RELU(a) = \\left\\{\n",
    "\\begin{array}{ll}\n",
    "a & \\text{if $a>0$} \\\\\n",
    "0 & \\text{otherwise}\n",
    "\\end{array}\n",
    "\\right.\n",
    "= a \\times I(a > 0)\n",
    "$$"
   ]
  },
  {
   "cell_type": "markdown",
   "id": "ee4a00b2-e419-4650-9209-ddfaacec3283",
   "metadata": {
    "slideshow": {
     "slide_type": "subslide"
    },
    "tags": []
   },
   "source": [
    "Plotted, this is: "
   ]
  },
  {
   "cell_type": "code",
   "execution_count": 8,
   "id": "12e4ed97-46d1-4348-b22d-4f0606fa93af",
   "metadata": {},
   "outputs": [
    {
     "data": {
      "image/png": "[encoded data removed]",
      "text/plain": [
       "<Figure size 432x288 with 1 Axes>"
      ]
     },
     "metadata": {
      "needs_background": "light"
     },
     "output_type": "display_data"
    }
   ],
   "source": [
    "plt.plot( [-1, 0, 1], [0, 0, 1], linewidth = 4);"
   ]
  },
  {
   "cell_type": "markdown",
   "id": "c5262d27-0fc2-4906-b6ae-55053980be2d",
   "metadata": {
    "slideshow": {
     "slide_type": "subslide"
    },
    "tags": []
   },
   "source": [
    "+ If a bias term is included, then the fact that the RELU is centered at zero isn't important, since the intercept term effectively shifts the function around. \n",
    "+ These kinds of splin terms are incredibly flexible. Just to show you an example, let's fit the sine function using a collection of shifted RELUs. This is just\n",
    "\n",
    "$$\n",
    "Y = \\sin(X) + \\epsilon\n",
    "$$\n",
    "\n",
    "+ being fit with\n",
    "\n",
    "$$\n",
    "\\sum_{i=1}^N \\left\\{ Y_i - W_{021} - \\sum_{j=1}^{d} W_{j21} g(W_{1j1} X_i- W_{0j1}) \\right\\}^2\n",
    "$$\n",
    "\n",
    "+ where the $W_{kj}$ are the weights for layer $k$. Below, we're just setting $W_{1j1} = 1$ and specifying the $W_{0j1}$ at a sequence of values. "
   ]
  },
  {
   "cell_type": "markdown",
   "id": "d4ea1f46-23de-41f9-a2fc-dff47152780a",
   "metadata": {
    "slideshow": {
     "slide_type": "subslide"
    },
    "tags": []
   },
   "source": [
    "This corresponds to a network like depicted below if there were $d=3$  hidden nodes, there was a relu activation function at the first layer, then a identity activation function for the output layer and the weights for the first layer are specified."
   ]
  },
  {
   "cell_type": "code",
   "execution_count": 9,
   "id": "87fb9e79-108d-443c-8f48-2e762384e55c",
   "metadata": {},
   "outputs": [
    {
     "data": {
      "image/png": "[encoded data removed]",
      "text/plain": [
       "<Figure size 432x288 with 1 Axes>"
      ]
     },
     "metadata": {},
     "output_type": "display_data"
    }
   ],
   "source": [
    "graph.spline_graph()"
   ]
  },
  {
   "cell_type": "markdown",
   "id": "399b9b98-699f-4aae-9e0c-ab0f713d1551",
   "metadata": {
    "slideshow": {
     "slide_type": "subslide"
    },
    "tags": []
   },
   "source": [
    "We can actually fit this function way just using linear regression; we show this code below"
   ]
  },
  {
   "cell_type": "code",
   "execution_count": 6,
   "id": "2f68ea2c-42ea-450c-b250-d6cc0fb40406",
   "metadata": {
    "slideshow": {
     "slide_type": "subslide"
    },
    "tags": []
   },
   "outputs": [
    {
     "data": {
      "image/png": "[encoded data removed]",
      "text/plain": [
       "<Figure size 432x288 with 1 Axes>"
      ]
     },
     "metadata": {
      "needs_background": "light"
     },
     "output_type": "display_data"
    }
   ],
   "source": [
    "## Generate some data, a sine function on 0,4*pi\n",
    "n = 1000\n",
    "x = np.linspace(0, 4 * np.pi, n)\n",
    "y = np.sin(x) + .2 * np.random.normal(size = n)\n",
    "\n",
    "## Generate the spline regressors\n",
    "df = 30\n",
    "knots = np.linspace(x.min(), x.max(), df)\n",
    "xmat = np.zeros((n, df))\n",
    "for i in range(0, df): xmat[:,i] = (x - knots[i]) * (x > knots[i])\n",
    "\n",
    "## Fit them\n",
    "from sklearn.linear_model import LinearRegression\n",
    "yhat = LinearRegression().fit(xmat, y).predict(xmat)\n",
    "\n",
    "## Plot them versus the data\n",
    "plt.plot(x, y);\n",
    "plt.plot(x, yhat);"
   ]
  },
  {
   "cell_type": "markdown",
   "id": "2a97c816-5128-4fca-9c56-9275a3d0dd02",
   "metadata": {
    "slideshow": {
     "slide_type": "slide"
    },
    "tags": []
   },
   "source": [
    "## Optimization\n",
    "\n",
    "One of the last bits of the puzzle we have to figure out is how to obtain the weights. A good strategy would be to minimize the loss function. However, it's hard to minmize. If we had a derivative, we could try the following. Let $L(W)$ be the loss function for weights $W$. Note, we're omitting the fact that this is a function of the data (predictors and outcome) as well, since that's a set of fixed numbers."
   ]
  },
  {
   "cell_type": "markdown",
   "id": "4711481f-3cfe-4626-9aee-c0089c54b1dc",
   "metadata": {
    "slideshow": {
     "slide_type": "subslide"
    },
    "tags": []
   },
   "source": [
    "### Gradient descent \n",
    "\n",
    "+ Consider updating parameters as\n",
    "\n",
    "$$\n",
    "W^{(new)} = W^{(old)} - e * L'(W^{(old)})\n",
    "$$\n",
    "\n",
    "+ This moves the parameters by a small amount, $e$, called the **learning rate**, in the direction the opposite of the gradient. \n",
    "+ Think of a one dimensional convex function. If the derivative at a point is positive, then that point is larger than where the minimum is. Similarily, if the derivative is negative, it's smaller. So, the idea is to head a small amount in the opposite direction of the derivative. "
   ]
  },
  {
   "cell_type": "markdown",
   "id": "c909f7e7-de47-4420-811e-e8bad925dec7",
   "metadata": {
    "slideshow": {
     "slide_type": "subslide"
    },
    "tags": []
   },
   "source": [
    "+ How do we get the gradient? Consider the following. \n",
    "+ If $X$ is our vector of predictors and $Y$ is our vector of outputs, a neural network with 3 layers, can be thought of as, where $L_k$ is layer $K$ and $W_k$ are the weights for that layer:\n",
    "\n",
    "$$\n",
    "L_3(L_2(L_1(X, W_1), W_2) W_3)\n",
    "$$\n"
   ]
  },
  {
   "cell_type": "markdown",
   "id": "8f701ebd-efc6-4a1b-bdd5-e66426438ff4",
   "metadata": {
    "slideshow": {
     "slide_type": "subslide"
    },
    "tags": []
   },
   "source": [
    "### Chain Rule\n",
    "\n",
    "+ Recall from calculus, if we want the derivative of composed functions we have a really simple rule called the chain rule:\n",
    "\n",
    "$$\n",
    "\\frac{d}{dx}f(g(x)) = f'(g(x)) g'(x)\n",
    "$$\n",
    "\n",
    "+ I.e. if $h=f(u)$ and $u = g(x)$ then $\\frac{dh}{dx} = \\frac{dh}{du}\\frac{du}{dx}$. \n",
    "\n",
    "+ If we use the chain rule on our composed loss functions, we wind up bookkeeping backwards through our neural network. That is why it's called **backwards propagation (backprop)**. "
   ]
  },
  {
   "cell_type": "markdown",
   "id": "d6436ed6-095d-4540-b4ae-d44ffedf3ad7",
   "metadata": {
    "slideshow": {
     "slide_type": "subslide"
    },
    "tags": []
   },
   "source": [
    "### Algorithm schematic\n",
    "\n",
    "Given, $W^{(new)}$, network, $\\phi(X, W)$, which depends on the predictors and the weights \n",
    "and loss, $L(Y, \\hat Y)$, which depends on the observed and predicted outputs.\n",
    "\n",
    "0. Set $W^{(old)}=W^{(new)}$\n",
    "1. Calculate $\\hat Y = \\phi(X, W^{(old)})$ and loss $L(Y, \\hat Y)$.\n",
    "1. Use back propagation to get to get a numerical approximation to $\\frac{d}{dW} L\\{Y, \\phi(X, W)\\} |_{W=W^{(old)}} = L'(W^{(old)})$\n",
    "3. Update $W^{(new)} = W^{(old)} - e L'(W^{(old)})$\n",
    "4. Go to step 0."
   ]
  }
 ],
 "metadata": {
  "kernelspec": {
   "display_name": "Python [conda env:.conda-ds4bio]",
   "language": "python",
   "name": "conda-env-.conda-ds4bio-py"
  },
  "language_info": {
   "codemirror_mode": {
    "name": "ipython",
    "version": 3
   },
   "file_extension": ".py",
   "mimetype": "text/x-python",
   "name": "python",
   "nbconvert_exporter": "python",
   "pygments_lexer": "ipython3",
   "version": "3.10.4"
  },
  "vscode": {
   "interpreter": {
    "hash": "79f87720972903b6188d40b03afb0115543bf63f5f0af29aadb196967754f61a"
   }
  }
 },
 "nbformat": 4,
 "nbformat_minor": 5
}
