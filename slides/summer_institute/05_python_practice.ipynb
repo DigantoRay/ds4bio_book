{
 "cells": [
  {
   "cell_type": "markdown",
   "metadata": {
    "slideshow": {
     "slide_type": "slide"
    },
    "tags": []
   },
   "source": [
    "# Python in practice\n",
    "\n",
    "+ The kind of programming we've seen so far in python isn't how typical data programmming in python goes. \n",
    "+ Instead, we tend to rely a lot of modules that add methods to our complex data science objects. + Most python objects are class objects that come with a variety of convenient methods associated with them. \n",
    "+ If you're working in a good coding environment, then it should have some method autocompletion for your objects, which helps prevent typos and can speed up work. "
   ]
  },
  {
   "cell_type": "markdown",
   "metadata": {
    "slideshow": {
     "slide_type": "notes"
    }
   },
   "source": [
    "The examples we've seen so far are foundational, but real-world data programming in Python often looks quite different. In practice, we rely heavily on modules that enhance our ability to work with complex data science objects. Most Python objects are class objects, equipped with a variety of methods that simplify manipulation and analysis. This object-oriented approach lets us apply powerful built-in methods directly to our data, making our code more efficient and expressive. A good coding environment will typically offer method autocompletion for these objects, which helps to avoid typos and speeds up coding by suggesting available methods as you type."
   ]
  },
  {
   "cell_type": "code",
   "execution_count": 22,
   "metadata": {
    "slideshow": {
     "slide_type": "subslide"
    },
    "tags": []
   },
   "outputs": [
    {
     "name": "stdout",
     "output_type": "stream",
     "text": [
      "['frogs', 'cats', 'dogs', 'hamsters']\n",
      "['cats', 'dogs', 'frogs', 'hamsters']\n",
      "['hamsters', 'frogs', 'dogs', 'cats']\n",
      "['hamsters', 'frogs', 'dogs']\n",
      "['hamsters', 'frogs', 'dogs', 'horses']\n",
      "1\n"
     ]
    }
   ],
   "source": [
    "pets = ['frogs', 'cats', 'dogs', 'hamsters']\n",
    "print(pets)\n",
    "pets.sort() #note this changes the pets object\n",
    "print(pets)\n",
    "pets.reverse()\n",
    "print(pets)\n",
    "pets.pop()\n",
    "print(pets)\n",
    "pets.append(\"horses\")\n",
    "print(pets)\n",
    "print(pets.count(\"horses\")) #counts the number of times the string horses is in the list"
   ]
  },
  {
   "cell_type": "markdown",
   "metadata": {
    "slideshow": {
     "slide_type": "notes"
    }
   },
   "source": [
    "Let's see Python in practice with a list of pets: ['frogs', 'cats', 'dogs', 'hamsters']. Initially, printing the list shows the original order. Using pets.sort() sorts the list alphabetically, modifying the list directly. The pets.reverse() method then reverses the sorted list. Next, pets.pop() removes the last item from the list. We then use pets.append('horses') to add 'horses' to the end of the list. Finally, pets.count('horses') tells us how many times 'horses' appears in the list. This example highlights how Python’s list methods allow for dynamic and intuitive data manipulation."
   ]
  },
  {
   "cell_type": "markdown",
   "metadata": {
    "slideshow": {
     "slide_type": "slide"
    },
    "tags": []
   },
   "source": [
    "# Making our own object with methods\n",
    "\n",
    "+ Let's do an example with a complex number\n",
    "+ Unlike real numbers complex numbers have two parts, the real and \"imaginary\"\n",
    "+ Example, (0 + i)^2 = -1\n",
    "+ Example, 1+2i could be represented as an object (1, 2) plus associated methods"
   ]
  },
  {
   "cell_type": "markdown",
   "metadata": {
    "slideshow": {
     "slide_type": "notes"
    }
   },
   "source": [
    "Let's create our own object to handle complex numbers, which have both real and imaginary parts. Unlike real numbers, complex numbers are expressed with a real part and an imaginary part. For instance, the square of (0+i) is -1, illustrating the unique properties of imaginary numbers. We'll represent a complex number like 1+2i as an object with a real part (1) and an imaginary part (2), and we can attach methods to this object to perform operations. This approach not only organizes our code but also makes it easier to perform complex number arithmetic intuitively."
   ]
  },
  {
   "cell_type": "code",
   "execution_count": 19,
   "metadata": {
    "slideshow": {
     "slide_type": "subslide"
    },
    "tags": []
   },
   "outputs": [
    {
     "name": "stdout",
     "output_type": "stream",
     "text": [
      "10.0\n",
      "5.0\n",
      "(10-5j)\n"
     ]
    }
   ],
   "source": [
    "x = 10 + 5j\n",
    "print(x.real)\n",
    "print(x.imag)\n",
    "print(x.conjugate())"
   ]
  },
  {
   "cell_type": "markdown",
   "metadata": {
    "slideshow": {
     "slide_type": "notes"
    }
   },
   "source": [
    "In Python, complex numbers are built-in objects with real and imaginary parts. For example, x = 10 + 5j represents a complex number. We can access its real part using x.real, which outputs 10, and its imaginary part with x.imag, which gives 5. Additionally, x.conjugate() returns the complex conjugate, which in this case is 10−5i."
   ]
  },
  {
   "cell_type": "markdown",
   "metadata": {
    "slideshow": {
     "slide_type": "subslide"
    }
   },
   "source": [
    "Let's create our own version of a complex number creator function, adapted from [here](https://docs.python.org/3/tutorial/classes.html)."
   ]
  },
  {
   "cell_type": "code",
   "execution_count": 46,
   "metadata": {
    "slideshow": {
     "slide_type": "fragment"
    },
    "tags": []
   },
   "outputs": [
    {
     "name": "stdout",
     "output_type": "stream",
     "text": [
      "(10, 5)\n",
      "(10, -5)\n"
     ]
    }
   ],
   "source": [
    "class mycomplex:\n",
    "    def __init__(self, real, imag):\n",
    "        self.r = real\n",
    "        self.i = imag\n",
    "\n",
    "    def conjugate(self): #note this modifies self\n",
    "        self.i =  -self.i\n",
    "\n",
    "    def print(self):\n",
    "        print((self.r, self.i))\n",
    "\n",
    "y = mycomplex(10,5)\n",
    "y.print()\n",
    "y.conjugate()\n",
    "y.print()"
   ]
  },
  {
   "cell_type": "markdown",
   "metadata": {
    "slideshow": {
     "slide_type": "notes"
    }
   },
   "source": [
    "Let's create a custom class for complex numbers. Our mycomplex class takes two parameters, real and imag, in its initializer to represent the real and imaginary parts. We store these values in self.r and self.i. We include a conjugate method that modifies the object's imaginary part by negating it. Finally, the print method displays the complex number as a tuple. In our example, we create a complex number y = mycomplex(10, 5), print it, then call y.conjugate() to modify its imaginary part and print it again. This approach demonstrates how to encapsulate data and behavior within a class."
   ]
  },
  {
   "cell_type": "markdown",
   "metadata": {
    "slideshow": {
     "slide_type": "subslide"
    }
   },
   "source": [
    "Let's now create a version that doesn't modify the object when we conjugate. "
   ]
  },
  {
   "cell_type": "code",
   "execution_count": 48,
   "metadata": {
    "slideshow": {
     "slide_type": "fragment"
    },
    "tags": []
   },
   "outputs": [
    {
     "name": "stdout",
     "output_type": "stream",
     "text": [
      "(10, 5)\n",
      "(10, 5)\n",
      "(10, -5)\n"
     ]
    }
   ],
   "source": [
    "class mycomplex:\n",
    "    def __init__(self, real, imag):\n",
    "        self.r = real\n",
    "        self.i = imag\n",
    "\n",
    "    def conjugate(self): # note this doesn't modify self and returns a new object\n",
    "        return(mycomplex(self.r, -self.i))\n",
    "\n",
    "    def print(self):\n",
    "        print((self.r, self.i))\n",
    "\n",
    "y = mycomplex(10,5)\n",
    "y.print()\n",
    "z = y.conjugate()\n",
    "y.print()\n",
    "z.print()"
   ]
  },
  {
   "cell_type": "markdown",
   "metadata": {
    "slideshow": {
     "slide_type": "notes"
    }
   },
   "source": [
    "Let's enhance our mycomplex class to ensure the conjugate method doesn’t modify the original object. In our revised class, mycomplex, the conjugate method returns a new mycomplex object instead of altering self. This way, the original complex number remains unchanged. For example, creating y = mycomplex(10, 5) and calling y.conjugate() gives us a new complex number z without modifying y. When we print both y and z, y remains (10, 5), and z is (10, -5). This approach preserves immutability, which can be beneficial for maintaining the integrity of our data."
   ]
  }
 ],
 "metadata": {
  "interpreter": {
   "hash": "625a8f875bfb3f569e4f618df17e1f8389970b6b26ee2c84acb92c5fbebf95c3"
  },
  "kernelspec": {
   "display_name": "Python [conda env:.conda-ds4bio]",
   "language": "python",
   "name": "conda-env-.conda-ds4bio-py"
  },
  "language_info": {
   "codemirror_mode": {
    "name": "ipython",
    "version": 3
   },
   "file_extension": ".py",
   "mimetype": "text/x-python",
   "name": "python",
   "nbconvert_exporter": "python",
   "pygments_lexer": "ipython3",
   "version": "3.10.4"
  }
 },
 "nbformat": 4,
 "nbformat_minor": 4
}
