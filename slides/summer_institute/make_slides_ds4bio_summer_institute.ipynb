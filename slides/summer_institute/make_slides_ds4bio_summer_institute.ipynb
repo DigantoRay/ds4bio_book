{
 "cells": [
  {
   "cell_type": "code",
   "execution_count": 1,
   "metadata": {
    "colab": {
     "base_uri": "https://localhost:8080/"
    },
    "executionInfo": {
     "elapsed": 45175,
     "status": "ok",
     "timestamp": 1716993803970,
     "user": {
      "displayName": "Brian Caffo",
      "userId": "07979705296072332292"
     },
     "user_tz": 240
    },
    "id": "t5iqlouB6bhR",
    "outputId": "e8f030fb-fd87-4a1f-f720-88de32bba892"
   },
   "outputs": [
    {
     "name": "stdout",
     "output_type": "stream",
     "text": [
      "Mounted at /content/drive\n"
     ]
    }
   ],
   "source": [
    "from google.colab import drive\n",
    "drive.mount('/content/drive')"
   ]
  },
  {
   "cell_type": "code",
   "execution_count": 2,
   "metadata": {
    "executionInfo": {
     "elapsed": 26307,
     "status": "ok",
     "timestamp": 1716995033462,
     "user": {
      "displayName": "Brian Caffo",
      "userId": "07979705296072332292"
     },
     "user_tz": 240
    },
    "id": "Cqd46unvy0A5"
   },
   "outputs": [],
   "source": [
    "!pip install pyglide &> /dev/null\n",
    "!sudo apt-get install pandoc &> /dev/null\n",
    "!sudo apt-get install texlive-xetex texlive-fonts-recommended texlive-plain-generic &> /dev/null\n",
    "!pip install nbconvert &> /dev/null"
   ]
  },
  {
   "cell_type": "code",
   "execution_count": null,
   "metadata": {
    "id": "U6RiRc4Ty0A8"
   },
   "outputs": [],
   "source": [
    "eb.embed_audio('02_github.ipynb')"
   ]
  },
  {
   "cell_type": "markdown",
   "metadata": {
    "id": "3Rx8vVCyy0A-"
   },
   "source": [
    "Conversion with different theme\n",
    "\n",
    "```\n",
    "jupyter nbconvert 10_sqlite.ipynb --to slides --SlidesExporter.reveal_theme=solarized\n",
    "```\n"
   ]
  },
  {
   "cell_type": "code",
   "execution_count": 1,
   "metadata": {
    "colab": {
     "base_uri": "https://localhost:8080/"
    },
    "executionInfo": {
     "elapsed": 3550,
     "status": "ok",
     "timestamp": 1716994983152,
     "user": {
      "displayName": "Brian Caffo",
      "userId": "07979705296072332292"
     },
     "user_tz": 240
    },
    "id": "qQDiNkp80Huh",
    "outputId": "6fd3a5e1-247b-4552-be6e-6e70e5f5dc50"
   },
   "outputs": [
    {
     "name": "stdout",
     "output_type": "stream",
     "text": [
      "[NbConvertApp] CRITICAL | Bad config encountered during initialization: Error loading argument slidesExporter.reveal_theme=['solarized'], 'LazyConfigValue' object does not support item assignment\n"
     ]
    }
   ],
   "source": [
    "!jupyter nbconvert 01_welcome.ipynb --to slides --slidesExporter.reveal_theme=solarized"
   ]
  }
 ],
 "metadata": {
  "colab": {
   "provenance": []
  },
  "kernelspec": {
   "display_name": "Python [conda env:.conda-ds4bio]",
   "language": "python",
   "name": "conda-env-.conda-ds4bio-py"
  },
  "language_info": {
   "codemirror_mode": {
    "name": "ipython",
    "version": 3
   },
   "file_extension": ".py",
   "mimetype": "text/x-python",
   "name": "python",
   "nbconvert_exporter": "python",
   "pygments_lexer": "ipython3",
   "version": "3.10.4"
  },
  "vscode": {
   "interpreter": {
    "hash": "79f87720972903b6188d40b03afb0115543bf63f5f0af29aadb196967754f61a"
   }
  }
 },
 "nbformat": 4,
 "nbformat_minor": 4
}
