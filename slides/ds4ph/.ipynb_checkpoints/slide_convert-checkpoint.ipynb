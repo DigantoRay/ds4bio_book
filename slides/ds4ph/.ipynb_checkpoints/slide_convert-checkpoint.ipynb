{
 "cells": [
  {
   "cell_type": "code",
   "execution_count": null,
   "metadata": {
    "id": "psneWwGCyMOG",
    "outputId": "3cbfeb59-a960-4929-93e0-9f9e4f5cbf2c"
   },
   "outputs": [
    {
     "ename": "ModuleNotFoundError",
     "evalue": "No module named 'rajas'",
     "output_type": "error",
     "traceback": [
      "\u001b[0;31m---------------------------------------------------------------------------\u001b[0m",
      "\u001b[0;31mModuleNotFoundError\u001b[0m                       Traceback (most recent call last)",
      "Input \u001b[0;32mIn [1]\u001b[0m, in \u001b[0;36m<cell line: 1>\u001b[0;34m()\u001b[0m\n\u001b[0;32m----> 1\u001b[0m \u001b[38;5;28;01mfrom\u001b[39;00m \u001b[38;5;21;01mrajas\u001b[39;00m \u001b[38;5;28;01mimport\u001b[39;00m embeddings \u001b[38;5;28;01mas\u001b[39;00m eb\n",
      "\u001b[0;31mModuleNotFoundError\u001b[0m: No module named 'rajas'"
     ]
    }
   ],
   "source": [
    "from rajas import embeddings as eb"
   ]
  },
  {
   "cell_type": "code",
   "execution_count": null,
   "metadata": {
    "id": "lnbzGQamyMOJ"
   },
   "outputs": [],
   "source": [
    "eb.embed_audio('02_github.ipynb')"
   ]
  },
  {
   "cell_type": "markdown",
   "metadata": {
    "id": "ZqGmf_LyyMOJ"
   },
   "source": [
    "Default conversion\n",
    "\n",
    "```\n",
    "02 converted with `jupyter nbconvert 02_github.ipynb --to slides --no-input`\n",
    "```\n"
   ]
  },
  {
   "cell_type": "markdown",
   "metadata": {
    "id": "41KLFjqtyMOL"
   },
   "source": [
    "Conversion with different theme\n",
    "\n",
    "```\n",
    "jupyter nbconvert 10_sqlite.ipynb --to slides --SlidesExporter.reveal_theme=solarized\n",
    "```\n"
   ]
  },
  {
   "cell_type": "code",
   "execution_count": null,
   "metadata": {
    "id": "VB3BK2W_yMOL",
    "outputId": "54357ecd-2fbb-4236-8b35-55b315b68ef8"
   },
   "outputs": [
    {
     "name": "stdout",
     "output_type": "stream",
     "text": [
      "[NbConvertApp] Converting notebook 22_linear_separable.ipynb to slides\n",
      "[NbConvertApp] Writing 602828 bytes to 22_linear_separable.slides.html\n"
     ]
    }
   ],
   "source": [
    "!jupyter nbconvert 22_linear_separable.ipynb --to slides --SlidesExporter.reveal_theme=solarized"
   ]
  },
  {
   "cell_type": "code",
   "execution_count": null,
   "metadata": {
    "id": "1qp1Sp_GyMOM",
    "outputId": "c7cd8bd0-7206-4cb8-8332-9f5600ac272a"
   },
   "outputs": [
    {
     "name": "stdout",
     "output_type": "stream",
     "text": [
      "[NbConvertApp] Converting notebook 23_linear_separable_smf.ipynb to slides\n",
      "[NbConvertApp] Writing 590645 bytes to 23_linear_separable_smf.slides.html\n"
     ]
    }
   ],
   "source": [
    "!jupyter nbconvert 23_linear_separable_smf.ipynb --to slides --SlidesExporter.reveal_theme=solarized"
   ]
  },
  {
   "cell_type": "code",
   "execution_count": null,
   "metadata": {
    "id": "XBCCGUAdyMOM",
    "outputId": "2ea98c82-203b-4a3d-df8a-4ec42409cb11"
   },
   "outputs": [
    {
     "name": "stdout",
     "output_type": "stream",
     "text": [
      "[NbConvertApp] Converting notebook 24_regression_examples.ipynb to slides\n",
      "[NbConvertApp] Writing 599589 bytes to 24_regression_examples.slides.html\n"
     ]
    }
   ],
   "source": [
    "!jupyter nbconvert 24_regression_examples.ipynb --to slides --SlidesExporter.reveal_theme=solarized"
   ]
  },
  {
   "cell_type": "code",
   "execution_count": null,
   "metadata": {
    "id": "FXb9mB6kyMON",
    "outputId": "617e3028-26e2-41e8-a1a2-28469f53514b"
   },
   "outputs": [
    {
     "name": "stdout",
     "output_type": "stream",
     "text": [
      "[NbConvertApp] Converting notebook 25_regression_interpretation.ipynb to slides\n",
      "[NbConvertApp] Writing 668277 bytes to 25_regression_interpretation.slides.html\n"
     ]
    }
   ],
   "source": [
    "!jupyter nbconvert 25_regression_interpretation.ipynb --to slides --SlidesExporter.reveal_theme=solarized"
   ]
  },
  {
   "cell_type": "code",
   "execution_count": null,
   "metadata": {
    "id": "KO5mLou9yMON",
    "outputId": "461727d6-eaf7-4024-de17-5de90d03bfca"
   },
   "outputs": [
    {
     "name": "stdout",
     "output_type": "stream",
     "text": [
      "[NbConvertApp] Converting notebook 26_nns.ipynb to slides\n",
      "[NbConvertApp] Writing 691244 bytes to 26_nns.slides.html\n"
     ]
    }
   ],
   "source": [
    "!jupyter nbconvert 26_nns.ipynb --to slides --SlidesExporter.reveal_theme=solarized"
   ]
  },
  {
   "cell_type": "code",
   "execution_count": null,
   "metadata": {
    "id": "U_NQTXITyMON",
    "outputId": "c18ca5a2-df36-43fc-ed8a-88efa4aa820d"
   },
   "outputs": [
    {
     "name": "stdout",
     "output_type": "stream",
     "text": [
      "[NbConvertApp] Converting notebook 27_basic_regression_pytorch.ipynb to slides\n",
      "[NbConvertApp] Writing 640623 bytes to 27_basic_regression_pytorch.slides.html\n"
     ]
    }
   ],
   "source": [
    "!jupyter nbconvert 27_basic_regression_pytorch.ipynb --to slides --SlidesExporter.reveal_theme=solarized"
   ]
  },
  {
   "cell_type": "code",
   "execution_count": null,
   "metadata": {
    "id": "2sA9zUXsyMOO",
    "outputId": "3d5204ea-f8a6-44e3-b75c-70468c5421df"
   },
   "outputs": [
    {
     "name": "stdout",
     "output_type": "stream",
     "text": [
      "[NbConvertApp] Converting notebook 28_logistic_regression_pytorch.ipynb to slides\n",
      "[NbConvertApp] Writing 613760 bytes to 28_logistic_regression_pytorch.slides.html\n"
     ]
    }
   ],
   "source": [
    "!jupyter nbconvert 28_logistic_regression_pytorch.ipynb --to slides --SlidesExporter.reveal_theme=solarized"
   ]
  },
  {
   "cell_type": "code",
   "execution_count": null,
   "metadata": {
    "id": "T16hwmU8yMOO",
    "outputId": "9adffa28-e6c8-48d7-93c8-6a98f4050f6e"
   },
   "outputs": [
    {
     "name": "stdout",
     "output_type": "stream",
     "text": [
      "[NbConvertApp] Converting notebook streamlit.ipynb to slides\n",
      "[NbConvertApp] Writing 583921 bytes to streamlit.slides.html\n"
     ]
    }
   ],
   "source": [
    "!jupyter nbconvert streamlit.ipynb --to slides --SlidesExporter.reveal_theme=solarized"
   ]
  },
  {
   "cell_type": "code",
   "execution_count": null,
   "metadata": {
    "id": "W6Gfg92jyPRy"
   },
   "outputs": [],
   "source": [
    "!jupyter nbconvert 29_convolutions.ipynb --to slides --SlidesExporter.reveal_theme=solarized"
   ]
  }
 ],
 "metadata": {
  "colab": {
   "provenance": []
  },
  "kernelspec": {
   "display_name": "Python [conda env:.conda-ds4bio]",
   "language": "python",
   "name": "conda-env-.conda-ds4bio-py"
  },
  "language_info": {
   "codemirror_mode": {
    "name": "ipython",
    "version": 3
   },
   "file_extension": ".py",
   "mimetype": "text/x-python",
   "name": "python",
   "nbconvert_exporter": "python",
   "pygments_lexer": "ipython3",
   "version": "3.10.4"
  },
  "vscode": {
   "interpreter": {
    "hash": "79f87720972903b6188d40b03afb0115543bf63f5f0af29aadb196967754f61a"
   }
  }
 },
 "nbformat": 4,
 "nbformat_minor": 4
}
